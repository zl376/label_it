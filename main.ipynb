{
 "cells": [
  {
   "cell_type": "code",
   "execution_count": 1,
   "metadata": {},
   "outputs": [],
   "source": [
    "import numpy as np\n",
    "import pandas as pd\n",
    "import seaborn as sns\n",
    "from itertools import chain, product\n",
    "from label_it.model.CM_Label import CM_Label\n",
    "from label_it.model.SVD_Label import SVD_Label\n",
    "from label_it.model.NMF_Label import NMF_Label\n",
    "from label_it.model.WE_Label import WE_Label\n",
    "from label_it.model.DNN_Label import DNN_Label\n",
    "\n",
    "import label_it.utils as utils"
   ]
  },
  {
   "cell_type": "markdown",
   "metadata": {},
   "source": [
    "# Setting "
   ]
  },
  {
   "cell_type": "code",
   "execution_count": 7,
   "metadata": {},
   "outputs": [],
   "source": [
    "FD_DATA = './data/'\n",
    "FD_WEIGHT = './weight/'\n",
    "FN_DATA = FD_DATA + 'data_sample.csv'\n",
    "# FN_WEIGHT = FD_WEIGHT + 'weight_CM.p'\n",
    "# FN_WEIGHT = FD_WEIGHT + 'weight_SVD.p'\n",
    "# FN_WEIGHT = FD_WEIGHT + 'weight_NMF.p'\n",
    "# FN_WEIGHT = FD_WEIGHT + 'weight_WE.p'\n",
    "FN_WEIGHT = FD_WEIGHT + 'weight_DNN.p'"
   ]
  },
  {
   "cell_type": "markdown",
   "metadata": {},
   "source": [
    "# Load Data"
   ]
  },
  {
   "cell_type": "code",
   "execution_count": 3,
   "metadata": {},
   "outputs": [
    {
     "data": {
      "text/plain": [
       "(Index(['DESC', 'LABEL', 'LABEL_DESC'], dtype='object'), 8095)"
      ]
     },
     "execution_count": 3,
     "metadata": {},
     "output_type": "execute_result"
    }
   ],
   "source": [
    "df = pd.read_csv(FN_DATA, encoding='latin-1')\n",
    "N = df.shape[0]\n",
    "\n",
    "# Map label to label description \n",
    "map_l2d = dict(df.groupby(by='LABEL')['LABEL_DESC'].first().reset_index().values.tolist())\n",
    "\n",
    "df.columns, N"
   ]
  },
  {
   "cell_type": "markdown",
   "metadata": {},
   "source": [
    "# Prepare data"
   ]
  },
  {
   "cell_type": "code",
   "execution_count": 4,
   "metadata": {},
   "outputs": [
    {
     "name": "stdout",
     "output_type": "stream",
     "text": [
      "5919 356\n"
     ]
    }
   ],
   "source": [
    "# x = df.DESC.str.split().values\n",
    "# y = df.LABEL.str.split().values\n",
    "\n",
    "# universe_desc = set(chain.from_iterable(x))\n",
    "# universe_label = set(chain.from_iterable(y))\n",
    "# print(len(universe_desc), len(universe_label))\n",
    "\n",
    "# # Break down pair of (word, word)\n",
    "# x, y = zip(*[ [[w1], [w2]] for arr_x, arr_y in zip(x, y) for w1, w2 in product(arr_x, arr_y) ])\n",
    "# x = utils.asarray_of_list(list(x))     # Make sure x is ndarray(List)\n",
    "# y = utils.asarray_of_list(list(y))     # Make sure y is ndarray(List)\n",
    "\n",
    "x = df.DESC.str.split().values\n",
    "y = df.LABEL.values\n",
    "y = utils.asarray_of_list([ [v] for v in y ])     # Make sure y is ndarray(List)\n",
    "\n",
    "universe_desc = set(chain.from_iterable(x))\n",
    "universe_label = set(chain.from_iterable(y))\n",
    "print(len(universe_desc), len(universe_label))"
   ]
  },
  {
   "cell_type": "markdown",
   "metadata": {},
   "source": [
    "# Train CM Labeller"
   ]
  },
  {
   "cell_type": "code",
   "execution_count": 5,
   "metadata": {},
   "outputs": [],
   "source": [
    "param_optim = {}\n",
    "\n",
    "# Create model\n",
    "model = CM_Label()\n",
    "\n",
    "# Build\n",
    "model.build(universe_x=universe_desc, universe_y=universe_label)\n",
    "\n",
    "# Compile\n",
    "model.compile()\n",
    "\n",
    "# Fit\n",
    "model.fit(x, y, verbose=True)\n",
    "\n",
    "# Save\n",
    "model.save_model(FN_WEIGHT)\n",
    "\n",
    "# Load\n",
    "model.load_model(FN_WEIGHT)\n",
    "\n",
    "# Inference\n",
    "# y_pred = model.predict(x, n_best=1)\n",
    "\n",
    "# Evaluate\n",
    "# perc_match = (y_pred == y).sum() / y.shape[0]\n",
    "# print('train acc {}'.format(perc_match))"
   ]
  },
  {
   "cell_type": "markdown",
   "metadata": {},
   "source": [
    "# Train SVD Labeller"
   ]
  },
  {
   "cell_type": "code",
   "execution_count": 8,
   "metadata": {},
   "outputs": [
    {
     "name": "stdout",
     "output_type": "stream",
     "text": [
      "Explained variance: 0.9986991647918926\n",
      "train acc 0.8190240889437924\n"
     ]
    },
    {
     "data": {
      "image/png": "[encoded data removed]",
      "text/plain": [
       "<Figure size 432x288 with 1 Axes>"
      ]
     },
     "metadata": {
      "needs_background": "light"
     },
     "output_type": "display_data"
    }
   ],
   "source": [
    "# param_optim = {'n_components': 23}\n",
    "param_optim = {'n_components': 300,\n",
    "               'tfidf': True}\n",
    "\n",
    "# Create model\n",
    "model = SVD_Label(**param_optim)\n",
    "\n",
    "# Build\n",
    "model.build(universe_x=universe_desc, universe_y=universe_label)\n",
    "\n",
    "# Compile\n",
    "model.compile()\n",
    "\n",
    "# Fit\n",
    "model.fit(x, y, verbose=True)\n",
    "\n",
    "# Save\n",
    "model.save_model(FN_WEIGHT)\n",
    "\n",
    "# Load\n",
    "model.load_model(FN_WEIGHT)\n",
    "\n",
    "# Inference\n",
    "y_pred = model.predict(x)\n",
    "\n",
    "# Evaluate\n",
    "perc_match = (y_pred == y).sum() / y.shape[0]\n",
    "print('train acc {}'.format(perc_match))\n"
   ]
  },
  {
   "cell_type": "markdown",
   "metadata": {},
   "source": [
    "# Train NMF Labeller"
   ]
  },
  {
   "cell_type": "code",
   "execution_count": 5,
   "metadata": {},
   "outputs": [
    {
     "name": "stdout",
     "output_type": "stream",
     "text": [
      "Recon error: 421.39832504173506, Raw matrix norm: 1797.2056171638756\n",
      "train acc 0.6864731315626931\n"
     ]
    }
   ],
   "source": [
    "# param_optim = {'n_components': 70}\n",
    "param_optim = {'n_components': 300,\n",
    "               'tfidf': True}\n",
    "\n",
    "# Create model\n",
    "model = NMF_Label(**param_optim)\n",
    "\n",
    "# Build\n",
    "model.build(universe_x=universe_desc, universe_y=universe_label)\n",
    "\n",
    "# Compile\n",
    "model.compile()\n",
    "\n",
    "# Fit\n",
    "model.fit(x, y, verbose=True)\n",
    "\n",
    "# Save\n",
    "model.save_model(FN_WEIGHT)\n",
    "\n",
    "# Load\n",
    "model.load_model(FN_WEIGHT)\n",
    "\n",
    "# Inference\n",
    "y_pred = model.predict(x)\n",
    "\n",
    "# Evaluate\n",
    "perc_match = (y_pred == y).sum() / y.shape[0]\n",
    "print('train acc {}'.format(perc_match))\n"
   ]
  },
  {
   "cell_type": "markdown",
   "metadata": {},
   "source": [
    "# Train WE Labeller"
   ]
  },
  {
   "cell_type": "code",
   "execution_count": 6,
   "metadata": {},
   "outputs": [
    {
     "name": "stdout",
     "output_type": "stream",
     "text": [
      "WARNING:tensorflow:From /home/kumamon/.conda/envs/dev/lib/python3.7/site-packages/tensorflow/python/framework/op_def_library.py:263: colocate_with (from tensorflow.python.framework.ops) is deprecated and will be removed in a future version.\n",
      "Instructions for updating:\n",
      "Colocations handled automatically by placer.\n",
      "WARNING:tensorflow:From /home/kumamon/.conda/envs/dev/lib/python3.7/site-packages/tensorflow/python/ops/nn_impl.py:1444: sparse_to_dense (from tensorflow.python.ops.sparse_ops) is deprecated and will be removed in a future version.\n",
      "Instructions for updating:\n",
      "Create a `tf.sparse.SparseTensor` and use `tf.sparse.to_dense` instead.\n",
      "WARNING:tensorflow:From /home/kumamon/.conda/envs/dev/lib/python3.7/site-packages/tensorflow/python/ops/array_grad.py:425: to_int32 (from tensorflow.python.ops.math_ops) is deprecated and will be removed in a future version.\n",
      "Instructions for updating:\n",
      "Use tf.cast instead.\n",
      "Initialized\n",
      "Save BEST model at step 160 (40.668).........] - ETA: 17:22 - loss: 76.6884 - val loss: 81.6027 - accuracy: 0.0000e+00 - val accuracy: 0.0037   WARNING:tensorflow:From /home/kumamon/.conda/envs/dev/lib/python3.7/site-packages/tensorflow/python/training/saver.py:966: remove_checkpoint (from tensorflow.python.training.checkpoint_management) is deprecated and will be removed in a future version.\n",
      "Instructions for updating:\n",
      "Use standard file APIs to delete files with this prefix.\n",
      " 17000/100000 [====>.........................] - ETA: 6:13 - loss: 0.2340 - val loss: 1.5113 - accuracy: 0.9375 - val accuracy: 0.8022\n",
      "Plateau reached.\n",
      "WARNING:tensorflow:From /home/kumamon/.conda/envs/dev/lib/python3.7/site-packages/tensorflow/python/training/saver.py:1266: checkpoint_exists (from tensorflow.python.training.checkpoint_management) is deprecated and will be removed in a future version.\n",
      "Instructions for updating:\n",
      "Use standard file APIs to check for files with this prefix.\n",
      "INFO:tensorflow:Restoring parameters from ./ckpt/WE_Label-7080\n",
      "\n",
      "Reduce lr to 0.0005000000237487257\n",
      " 59600/100000 [================>.............] - ETA: 2:54 - loss: 0.0268 - val loss: 1.6140 - accuracy: 0.9688 - val accuracy: 0.7948\n",
      "Plateau reached.\n",
      "INFO:tensorflow:Restoring parameters from ./ckpt/WE_Label-7080\n",
      "\n",
      "Reduce lr to 3.125000148429535e-05\n",
      " 70900/100000 [====================>.........] - ETA: 2:05 - loss: 0.0083 - val loss: 1.5724 - accuracy: 1.0000 - val accuracy: 0.7973\n",
      "Plateau reached.\n",
      "INFO:tensorflow:Restoring parameters from ./ckpt/WE_Label-7080\n",
      "\n",
      "Reduce lr to 1.5625000742147677e-05\n",
      " 81100/100000 [=======================>......] - ETA: 1:21 - loss: 0.0262 - val loss: 1.5558 - accuracy: 0.9375 - val accuracy: 0.7923\n",
      "Plateau reached.\n",
      "INFO:tensorflow:Restoring parameters from ./ckpt/WE_Label-7080\n",
      "\n",
      "Reduce lr to 7.812500371073838e-06\n",
      "\n",
      "Learning rate 7.812500371073838e-06 reaches limit: < 1e-05.\n",
      "INFO:tensorflow:Restoring parameters from ./ckpt/WE_Label-7080\n",
      "train acc 0.892402717726992\n"
     ]
    }
   ],
   "source": [
    "# param_optim = {'embedding_size': 30,\n",
    "#                'num_sampled': 5}\n",
    "param_optim = {'embedding_size': 50,\n",
    "               'num_sampled': 50,\n",
    "               'tfidf': True}\n",
    "\n",
    "# Create model\n",
    "model = WE_Label(vocabulary_size=len(universe_desc),\n",
    "                 label_size=len(universe_label),\n",
    "                 **param_optim,\n",
    "                 )\n",
    "\n",
    "# Build\n",
    "model.build(universe_x=universe_desc, universe_y=universe_label)\n",
    "\n",
    "# Compile\n",
    "model.compile(num_sampled=param_optim['num_sampled'])     # num_samples:   no. of negative samples in tf.nn.nce_loss\n",
    "\n",
    "\n",
    "model.fit(x, y, verbose=True)\n",
    "\n",
    "# Save\n",
    "model.save_model(FN_WEIGHT)\n",
    "\n",
    "# Load\n",
    "model.load_model(FN_WEIGHT)\n",
    "\n",
    "# Inference\n",
    "y_pred = model.predict(x)\n",
    "\n",
    "# Evaluate\n",
    "perc_match = (y_pred == y).sum() / y.shape[0]\n",
    "print('train acc {}'.format(perc_match))\n",
    "        "
   ]
  },
  {
   "cell_type": "markdown",
   "metadata": {},
   "source": [
    "# Train DNN Labeller"
   ]
  },
  {
   "cell_type": "code",
   "execution_count": 8,
   "metadata": {},
   "outputs": [
    {
     "name": "stdout",
     "output_type": "stream",
     "text": [
      "Initialized\n",
      " 16500/100000 [===>..........................] - ETA: 6:10 - loss: 0.3615 - val loss: 1.6349 - accuracy: 0.9375 - val accuracy: 0.7763\n",
      "Plateau reached.\n",
      "INFO:tensorflow:Restoring parameters from ./ckpt/WE_Label-6560\n",
      "\n",
      "Reduce lr to 0.0005000000237487257\n",
      " 26600/100000 [======>.......................] - ETA: 5:19 - loss: 0.3548 - val loss: 1.4592 - accuracy: 0.9062 - val accuracy: 0.7577\n",
      "Plateau reached.\n",
      "INFO:tensorflow:Restoring parameters from ./ckpt/WE_Label-6560\n",
      "\n",
      "Reduce lr to 0.0002500000118743628\n",
      " 36700/100000 [==========>...................] - ETA: 4:33 - loss: 0.8067 - val loss: 1.5192 - accuracy: 0.9688 - val accuracy: 0.7775\n",
      "Plateau reached.\n",
      "INFO:tensorflow:Restoring parameters from ./ckpt/WE_Label-6560\n",
      "\n",
      "Reduce lr to 0.0001250000059371814\n",
      " 47200/100000 [=============>................] - ETA: 3:46 - loss: 0.2594 - val loss: 1.4912 - accuracy: 0.9688 - val accuracy: 0.7676\n",
      "Plateau reached.\n",
      "INFO:tensorflow:Restoring parameters from ./ckpt/WE_Label-6560\n",
      "\n",
      "Reduce lr to 6.25000029685907e-05\n",
      " 58800/100000 [================>.............] - ETA: 2:56 - loss: 0.4876 - val loss: 1.6360 - accuracy: 0.9688 - val accuracy: 0.7713\n",
      "Plateau reached.\n",
      "INFO:tensorflow:Restoring parameters from ./ckpt/WE_Label-6560\n",
      "\n",
      "Reduce lr to 3.125000148429535e-05\n",
      " 69100/100000 [===================>..........] - ETA: 2:11 - loss: 0.4322 - val loss: 1.5939 - accuracy: 0.9688 - val accuracy: 0.7800\n",
      "Plateau reached.\n",
      "INFO:tensorflow:Restoring parameters from ./ckpt/WE_Label-6560\n",
      "\n",
      "Reduce lr to 1.5625000742147677e-05\n",
      " 79300/100000 [======================>.......] - ETA: 1:28 - loss: 0.5620 - val loss: 1.4894 - accuracy: 0.9688 - val accuracy: 0.7763\n",
      "Plateau reached.\n",
      "INFO:tensorflow:Restoring parameters from ./ckpt/WE_Label-6560\n",
      "\n",
      "Reduce lr to 7.812500371073838e-06\n",
      "\n",
      "Learning rate 7.812500371073838e-06 reaches limit: < 1e-05.\n",
      "INFO:tensorflow:Restoring parameters from ./ckpt/WE_Label-6560\n",
      "INFO:tensorflow:Restoring parameters from ./weight/weight_DNN.p\n",
      "train acc 0.8886967263743051\n"
     ]
    }
   ],
   "source": [
    "# param_optim = {'embedding_size': 30,\n",
    "#                'num_sampled': 5}\n",
    "param_optim = {'param_layer': (50,),\n",
    "               'num_sampled': 50,\n",
    "               'tfidf': True}\n",
    "\n",
    "# Create model\n",
    "model = DNN_Label(vocabulary_size=len(universe_desc),\n",
    "                 label_size=len(universe_label),\n",
    "                 **param_optim)\n",
    "\n",
    "# Build\n",
    "model.build(universe_x=universe_desc, universe_y=universe_label)\n",
    "\n",
    "# Compile\n",
    "model.compile(num_sampled=param_optim['num_sampled'])     # num_samples:   no. of negative samples in tf.nn.nce_loss\n",
    "\n",
    "\n",
    "model.fit(x, y, verbose=True)\n",
    "\n",
    "# Save\n",
    "model.save_model(FN_WEIGHT)\n",
    "\n",
    "# Load\n",
    "model.load_model(FN_WEIGHT)\n",
    "\n",
    "# Inference\n",
    "y_pred = model.predict(x)\n",
    "\n",
    "# Evaluate\n",
    "perc_match = (y_pred == y).sum() / y.shape[0]\n",
    "print('train acc {}'.format(perc_match))\n",
    "        "
   ]
  }
 ],
 "metadata": {
  "kernelspec": {
   "display_name": "Python 3",
   "language": "python",
   "name": "python3"
  },
  "language_info": {
   "codemirror_mode": {
    "name": "ipython",
    "version": 3
   },
   "file_extension": ".py",
   "mimetype": "text/x-python",
   "name": "python",
   "nbconvert_exporter": "python",
   "pygments_lexer": "ipython3",
   "version": "3.7.3"
  },
  "toc": {
   "base_numbering": 1,
   "nav_menu": {},
   "number_sections": true,
   "sideBar": true,
   "skip_h1_title": false,
   "title_cell": "Table of Contents",
   "title_sidebar": "Contents",
   "toc_cell": false,
   "toc_position": {},
   "toc_section_display": true,
   "toc_window_display": true
  }
 },
 "nbformat": 4,
 "nbformat_minor": 2
}
