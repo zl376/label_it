{
 "cells": [
  {
   "cell_type": "code",
   "execution_count": 1,
   "metadata": {},
   "outputs": [],
   "source": [
    "import numpy as np\n",
    "import pandas as pd\n",
    "import seaborn as sns\n",
    "from itertools import chain\n",
    "from model.SVD_Label import SVD_Label\n",
    "from model.NMF_Label import NMF_Label\n",
    "from model.WE_Label import WE_Label"
   ]
  },
  {
   "cell_type": "markdown",
   "metadata": {},
   "source": [
    "# Setting "
   ]
  },
  {
   "cell_type": "code",
   "execution_count": 2,
   "metadata": {},
   "outputs": [],
   "source": [
    "FD_DATA = './data/'\n",
    "FD_WEIGHT = './weight/'\n",
    "FN_DATA = FD_DATA + 'data_sample.csv'\n",
    "# FN_WEIGHT = FD_WEIGHT + 'weight_SVD.p'\n",
    "# FN_WEIGHT = FD_WEIGHT + 'weight_NMF.p'\n",
    "FN_WEIGHT = FD_WEIGHT + 'weight_WE.p'"
   ]
  },
  {
   "cell_type": "markdown",
   "metadata": {},
   "source": [
    "# Load Data"
   ]
  },
  {
   "cell_type": "code",
   "execution_count": 3,
   "metadata": {},
   "outputs": [
    {
     "data": {
      "text/plain": [
       "(Index(['DESC', 'LABEL', 'LABEL_DESC'], dtype='object'), 9327)"
      ]
     },
     "execution_count": 3,
     "metadata": {},
     "output_type": "execute_result"
    }
   ],
   "source": [
    "df = pd.read_csv(FN_DATA, encoding='latin-1')\n",
    "N = df.shape[0]\n",
    "\n",
    "# Map label to label description \n",
    "map_l2d = dict(df.groupby(by='LABEL')['LABEL_DESC'].first().reset_index().values.tolist())\n",
    "\n",
    "df.columns, N"
   ]
  },
  {
   "cell_type": "markdown",
   "metadata": {},
   "source": [
    "# Tune hyper-parameter "
   ]
  },
  {
   "cell_type": "code",
   "execution_count": 4,
   "metadata": {},
   "outputs": [],
   "source": [
    "universe_desc = set(chain.from_iterable(df.DESC.str.split().values))\n",
    "universe_label = set(df.LABEL.values)"
   ]
  },
  {
   "cell_type": "code",
   "execution_count": 5,
   "metadata": {},
   "outputs": [],
   "source": [
    "# Dataset\n",
    "x = df.DESC.str.split().values\n",
    "y = df.LABEL.values\n",
    "\n",
    "# Shuffle\n",
    "idx = np.arange(N)\n",
    "np.random.seed(42)\n",
    "np.random.shuffle(idx)\n",
    "x, y = x[idx], y[idx]\n",
    "\n",
    "x_train, y_train = x[:-np.floor(N*0.1).astype(np.int)], y[:-np.floor(N*0.1).astype(np.int)]\n",
    "x_test, y_test = x[-np.floor(N*0.1).astype(np.int):], y[-np.floor(N*0.1).astype(np.int):]"
   ]
  },
  {
   "cell_type": "markdown",
   "metadata": {},
   "source": [
    "# Train SVD Labeller"
   ]
  },
  {
   "cell_type": "code",
   "execution_count": 14,
   "metadata": {},
   "outputs": [
    {
     "name": "stderr",
     "output_type": "stream",
     "text": [
      "/home/kumamon/.conda/envs/dev/lib/python3.7/site-packages/scipy/sparse/base.py:597: RuntimeWarning: invalid value encountered in true_divide\n",
      "  return np.true_divide(self.todense(), other)\n"
     ]
    },
    {
     "name": "stdout",
     "output_type": "stream",
     "text": [
      "Explained variance: 0.689094781889387\n",
      "n 5, acc 0.2628755364806867\n",
      "Explained variance: 0.9466306005936295\n",
      "n 10, acc 0.4055793991416309\n",
      "Explained variance: 0.9996014068938784\n",
      "n 20, acc 0.7864806866952789\n",
      "Explained variance: 0.9996616282836314\n",
      "n 21, acc 0.7843347639484979\n",
      "Explained variance: 0.9996957849463903\n",
      "n 22, acc 0.7864806866952789\n",
      "Explained variance: 0.9997221113695819\n",
      "n 23, acc 0.7886266094420601\n",
      "Explained variance: 0.9997475282177607\n",
      "n 24, acc 0.7864806866952789\n",
      "Explained variance: 0.999770773803774\n",
      "n 25, acc 0.7757510729613734\n",
      "Explained variance: 0.9997889575094088\n",
      "n 26, acc 0.7650214592274678\n",
      "Explained variance: 0.9998074466269502\n",
      "n 27, acc 0.7585836909871244\n",
      "Explained variance: 0.9998241979570673\n",
      "n 28, acc 0.75\n",
      "Explained variance: 0.9998399069258712\n",
      "n 29, acc 0.7457081545064378\n",
      "Explained variance: 0.9998517961212905\n",
      "n 30, acc 0.7489270386266095\n",
      "Explained variance: 0.9999194458162884\n",
      "n 40, acc 0.73068669527897\n",
      "Explained variance: 0.9999544009186269\n",
      "n 50, acc 0.7006437768240343\n",
      "Explained variance: 0.9999775150106597\n",
      "n 60, acc 0.6716738197424893\n",
      "Explained variance: 0.9999938672749005\n",
      "n 70, acc 0.6695278969957081\n"
     ]
    },
    {
     "data": {
      "image/png": "[encoded data removed]",
      "text/plain": [
       "<Figure size 432x288 with 1 Axes>"
      ]
     },
     "metadata": {
      "needs_background": "light"
     },
     "output_type": "display_data"
    }
   ],
   "source": [
    "df_perf = pd.DataFrame()\n",
    "\n",
    "for n_components in (5, 10, 20) + tuple(range(21, 30)) + (30, 40, 50, 60, 70):\n",
    "    \n",
    "        FN_WEIGHT = './weight_dbg/weight_SVD_n{0}.p'.format(n_components)\n",
    "\n",
    "        # Create model\n",
    "        model = SVD_Label(n_components=n_components)\n",
    "\n",
    "        # Build\n",
    "        model.build(universe_x=universe_desc, universe_y=universe_label)\n",
    "\n",
    "        # Compile\n",
    "        model.compile()\n",
    "\n",
    "        # Fit\n",
    "        model.fit(x_train, y_train, verbose=True)\n",
    "\n",
    "        # Save\n",
    "        model.save_model(FN_WEIGHT)\n",
    "        \n",
    "        # Load\n",
    "        model.load_model(FN_WEIGHT)\n",
    "\n",
    "        # Inference\n",
    "        y_pred = model.predict(x_test)\n",
    "\n",
    "        # Evaluate\n",
    "        perc_match = (y_pred == y_test).sum() / y_test.shape[0]\n",
    "        print('n {0}, acc {1}'.format(n_components, perc_match))\n",
    "        \n",
    "        df_perf = df_perf.append(pd.DataFrame({'n_components': [n_components],\n",
    "                                               'accuracy': [perc_match]}))\n",
    "        \n",
    "        \n",
    "        "
   ]
  },
  {
   "cell_type": "code",
   "execution_count": 15,
   "metadata": {},
   "outputs": [
    {
     "data": {
      "text/plain": [
       "<matplotlib.axes._subplots.AxesSubplot at 0x7f84d6b2b4a8>"
      ]
     },
     "execution_count": 15,
     "metadata": {},
     "output_type": "execute_result"
    },
    {
     "data": {
      "image/png": "[encoded data removed]",
      "text/plain": [
       "<Figure size 432x288 with 1 Axes>"
      ]
     },
     "metadata": {
      "needs_background": "light"
     },
     "output_type": "display_data"
    }
   ],
   "source": [
    "sns.lineplot(x='n_components', y='accuracy', data=df_perf)"
   ]
  },
  {
   "cell_type": "code",
   "execution_count": 16,
   "metadata": {},
   "outputs": [],
   "source": [
    "param_optim = {'n_components': 23}"
   ]
  },
  {
   "cell_type": "markdown",
   "metadata": {},
   "source": [
    "# Train NMF Labeller"
   ]
  },
  {
   "cell_type": "code",
   "execution_count": 7,
   "metadata": {},
   "outputs": [
    {
     "name": "stderr",
     "output_type": "stream",
     "text": [
      "/home/kumamon/.conda/envs/dev/lib/python3.7/site-packages/scipy/sparse/base.py:597: RuntimeWarning: invalid value encountered in true_divide\n",
      "  return np.true_divide(self.todense(), other)\n"
     ]
    },
    {
     "name": "stdout",
     "output_type": "stream",
     "text": [
      "Recon error: 1274.73023686644, Raw matrix norm: 1240.55692476515\n",
      "n 5, acc 0.13412017167381973\n"
     ]
    },
    {
     "name": "stderr",
     "output_type": "stream",
     "text": [
      "/home/kumamon/.conda/envs/dev/lib/python3.7/site-packages/scipy/sparse/base.py:597: RuntimeWarning: invalid value encountered in true_divide\n",
      "  return np.true_divide(self.todense(), other)\n"
     ]
    },
    {
     "name": "stdout",
     "output_type": "stream",
     "text": [
      "Recon error: 528.3251757325711, Raw matrix norm: 1240.55692476515\n",
      "n 10, acc 0.11158798283261803\n"
     ]
    },
    {
     "name": "stderr",
     "output_type": "stream",
     "text": [
      "/home/kumamon/.conda/envs/dev/lib/python3.7/site-packages/scipy/sparse/base.py:597: RuntimeWarning: invalid value encountered in true_divide\n",
      "  return np.true_divide(self.todense(), other)\n"
     ]
    },
    {
     "name": "stdout",
     "output_type": "stream",
     "text": [
      "Recon error: 46.05451414309821, Raw matrix norm: 1240.55692476515\n",
      "n 20, acc 0.4388412017167382\n"
     ]
    },
    {
     "name": "stderr",
     "output_type": "stream",
     "text": [
      "/home/kumamon/.conda/envs/dev/lib/python3.7/site-packages/scipy/sparse/base.py:597: RuntimeWarning: invalid value encountered in true_divide\n",
      "  return np.true_divide(self.todense(), other)\n"
     ]
    },
    {
     "name": "stdout",
     "output_type": "stream",
     "text": [
      "Recon error: 32.00564755704707, Raw matrix norm: 1240.55692476515\n",
      "n 30, acc 0.5912017167381974\n"
     ]
    },
    {
     "name": "stderr",
     "output_type": "stream",
     "text": [
      "/home/kumamon/.conda/envs/dev/lib/python3.7/site-packages/scipy/sparse/base.py:597: RuntimeWarning: invalid value encountered in true_divide\n",
      "  return np.true_divide(self.todense(), other)\n"
     ]
    },
    {
     "name": "stdout",
     "output_type": "stream",
     "text": [
      "Recon error: 26.215538132375038, Raw matrix norm: 1240.55692476515\n",
      "n 40, acc 0.6030042918454935\n"
     ]
    },
    {
     "name": "stderr",
     "output_type": "stream",
     "text": [
      "/home/kumamon/.conda/envs/dev/lib/python3.7/site-packages/scipy/sparse/base.py:597: RuntimeWarning: invalid value encountered in true_divide\n",
      "  return np.true_divide(self.todense(), other)\n"
     ]
    },
    {
     "name": "stdout",
     "output_type": "stream",
     "text": [
      "Recon error: 21.148811673291682, Raw matrix norm: 1240.55692476515\n",
      "n 50, acc 0.6899141630901288\n"
     ]
    },
    {
     "name": "stderr",
     "output_type": "stream",
     "text": [
      "/home/kumamon/.conda/envs/dev/lib/python3.7/site-packages/scipy/sparse/base.py:597: RuntimeWarning: invalid value encountered in true_divide\n",
      "  return np.true_divide(self.todense(), other)\n"
     ]
    },
    {
     "name": "stdout",
     "output_type": "stream",
     "text": [
      "Recon error: 18.054200245236256, Raw matrix norm: 1240.55692476515\n",
      "n 60, acc 0.7049356223175965\n"
     ]
    },
    {
     "name": "stderr",
     "output_type": "stream",
     "text": [
      "/home/kumamon/.conda/envs/dev/lib/python3.7/site-packages/scipy/sparse/base.py:597: RuntimeWarning: invalid value encountered in true_divide\n",
      "  return np.true_divide(self.todense(), other)\n"
     ]
    },
    {
     "name": "stdout",
     "output_type": "stream",
     "text": [
      "Recon error: 14.132829723853755, Raw matrix norm: 1240.55692476515\n",
      "n 70, acc 0.723175965665236\n"
     ]
    },
    {
     "name": "stderr",
     "output_type": "stream",
     "text": [
      "/home/kumamon/.conda/envs/dev/lib/python3.7/site-packages/scipy/sparse/base.py:597: RuntimeWarning: invalid value encountered in true_divide\n",
      "  return np.true_divide(self.todense(), other)\n"
     ]
    },
    {
     "name": "stdout",
     "output_type": "stream",
     "text": [
      "Recon error: 13.330039630596765, Raw matrix norm: 1240.55692476515\n",
      "n 78, acc 0.6716738197424893\n"
     ]
    }
   ],
   "source": [
    "df_perf = pd.DataFrame()\n",
    "\n",
    "for n_components in (5, 10, 20, 30, 40, 50, 60, 70, 78):\n",
    "    \n",
    "        FN_WEIGHT = './weight_dbg/weight_NMF_n{0}.p'.format(n_components)\n",
    "\n",
    "        # Create model\n",
    "        model = NMF_Label(n_components=n_components)\n",
    "\n",
    "        # Build\n",
    "        model.build(universe_x=universe_desc, universe_y=universe_label)\n",
    "\n",
    "        # Compile\n",
    "        model.compile()\n",
    "\n",
    "        # Fit\n",
    "        model.fit(x_train, y_train, verbose=True)\n",
    "\n",
    "        # Save\n",
    "        model.save_model(FN_WEIGHT)\n",
    "        \n",
    "        # Load\n",
    "        model.load_model(FN_WEIGHT)\n",
    "\n",
    "        # Inference\n",
    "        y_pred = model.predict(x_test)\n",
    "\n",
    "        # Evaluate\n",
    "        perc_match = (y_pred == y_test).sum() / y_test.shape[0]\n",
    "        print('n {0}, acc {1}'.format(n_components, perc_match))\n",
    "        \n",
    "        df_perf = df_perf.append(pd.DataFrame({'n_components': [n_components],\n",
    "                                               'accuracy': [perc_match]}))\n",
    "        \n",
    "        \n",
    "        "
   ]
  },
  {
   "cell_type": "code",
   "execution_count": 8,
   "metadata": {},
   "outputs": [
    {
     "data": {
      "text/plain": [
       "<matplotlib.axes._subplots.AxesSubplot at 0x7f5aa6e5be10>"
      ]
     },
     "execution_count": 8,
     "metadata": {},
     "output_type": "execute_result"
    },
    {
     "data": {
      "image/png": "[encoded data removed]",
      "text/plain": [
       "<Figure size 432x288 with 1 Axes>"
      ]
     },
     "metadata": {
      "needs_background": "light"
     },
     "output_type": "display_data"
    }
   ],
   "source": [
    "sns.lineplot(x='n_components', y='accuracy', data=df_perf)"
   ]
  },
  {
   "cell_type": "code",
   "execution_count": 9,
   "metadata": {},
   "outputs": [],
   "source": [
    "param_optim = {'n_components': 70}"
   ]
  },
  {
   "cell_type": "markdown",
   "metadata": {},
   "source": [
    "# Train WE Labeller"
   ]
  },
  {
   "cell_type": "code",
   "execution_count": 10,
   "metadata": {},
   "outputs": [
    {
     "name": "stdout",
     "output_type": "stream",
     "text": [
      "WARNING:tensorflow:From /home/kumamon/.conda/envs/dev/lib/python3.7/site-packages/tensorflow/python/framework/op_def_library.py:263: colocate_with (from tensorflow.python.framework.ops) is deprecated and will be removed in a future version.\n",
      "Instructions for updating:\n",
      "Colocations handled automatically by placer.\n",
      "WARNING:tensorflow:From /home/kumamon/.conda/envs/dev/lib/python3.7/site-packages/tensorflow/python/ops/array_grad.py:425: to_int32 (from tensorflow.python.ops.math_ops) is deprecated and will be removed in a future version.\n",
      "Instructions for updating:\n",
      "Use tf.cast instead.\n",
      "Initialized\n",
      "Save BEST model at step 530 (3.824)..........] - ETA: 13:56 - loss: 12.3857 - val loss: 5.2432 - accuracy: 0.0000e+00 - val accuracy: 0.0072 WARNING:tensorflow:From /home/kumamon/.conda/envs/dev/lib/python3.7/site-packages/tensorflow/python/training/saver.py:966: remove_checkpoint (from tensorflow.python.training.checkpoint_management) is deprecated and will be removed in a future version.\n",
      "Instructions for updating:\n",
      "Use standard file APIs to delete files with this prefix.\n",
      " 41300/100000 [===========>..................] - ETA: 5:55 - loss: 0.0583 - val loss: 0.6295 - accuracy: 1.0000 - val accuracy: 0.8510\n",
      "Plateau reached.\n",
      "WARNING:tensorflow:From /home/kumamon/.conda/envs/dev/lib/python3.7/site-packages/tensorflow/python/training/saver.py:1266: checkpoint_exists (from tensorflow.python.training.checkpoint_management) is deprecated and will be removed in a future version.\n",
      "Instructions for updating:\n",
      "Use standard file APIs to check for files with this prefix.\n",
      "INFO:tensorflow:Restoring parameters from ./ckpt/WE_Label-7210\n",
      "\n",
      "Reduce lr to 0.0005000000237487257\n",
      " 62100/100000 [=================>............] - ETA: 3:48 - loss: 0.2129 - val loss: 0.5829 - accuracy: 1.0000 - val accuracy: 0.8558\n",
      "Plateau reached.\n",
      "INFO:tensorflow:Restoring parameters from ./ckpt/WE_Label-7210\n",
      "\n",
      "Reduce lr to 0.0002500000118743628\n",
      " 85000/100000 [========================>.....] - ETA: 1:30 - loss: 0.4361 - val loss: 1.2671 - accuracy: 0.9062 - val accuracy: 0.8546\n",
      "Plateau reached.\n",
      "INFO:tensorflow:Restoring parameters from ./ckpt/WE_Label-7210\n",
      "\n",
      "Reduce lr to 0.0001250000059371814\n",
      "100000/100000 [==============================] - 601s 6ms/step - loss: 0.0754 - val loss: 0.5832 - accuracy: 0.9062 - val accuracy: 0.8522\n",
      "emb 10, nce 5, acc 0.8562231759656652\n",
      "Initialized\n",
      " 36300/100000 [=========>....................] - ETA: 6:23 - loss: 0.2769 - val loss: 1.0808 - accuracy: 0.9688 - val accuracy: 0.8546\n",
      "Plateau reached.\n",
      "INFO:tensorflow:Restoring parameters from ./ckpt/WE_Label-6670\n",
      "\n",
      "Reduce lr to 0.0005000000237487257\n",
      " 57800/100000 [================>.............] - ETA: 4:17 - loss: 0.5511 - val loss: 0.9565 - accuracy: 0.9688 - val accuracy: 0.8570\n",
      "Plateau reached.\n",
      "INFO:tensorflow:Restoring parameters from ./ckpt/WE_Label-6670\n",
      "\n",
      "Reduce lr to 0.0002500000118743628\n",
      " 85900/100000 [========================>.....] - ETA: 1:26 - loss: 0.9397 - val loss: 1.1100 - accuracy: 0.9375 - val accuracy: 0.8605\n",
      "Plateau reached.\n",
      "INFO:tensorflow:Restoring parameters from ./ckpt/WE_Label-6670\n",
      "\n",
      "Reduce lr to 0.0001250000059371814\n",
      "100000/100000 [==============================] - 608s 6ms/step - loss: 0.1240 - val loss: 1.1993 - accuracy: 0.9062 - val accuracy: 0.8570\n",
      "emb 10, nce 10, acc 0.8572961373390557\n",
      "Initialized\n",
      " 28500/100000 [=======>......................] - ETA: 6:09 - loss: 0.6244 - val loss: 1.5410 - accuracy: 0.9688 - val accuracy: 0.8594\n",
      "Plateau reached.\n",
      "INFO:tensorflow:Restoring parameters from ./ckpt/WE_Label-11980\n",
      "\n",
      "Reduce lr to 0.0005000000237487257\n",
      " 51000/100000 [==============>...............] - ETA: 3:55 - loss: 0.3270 - val loss: 1.7226 - accuracy: 0.9688 - val accuracy: 0.8617\n",
      "Plateau reached.\n",
      "INFO:tensorflow:Restoring parameters from ./ckpt/WE_Label-11980\n",
      "\n",
      "Reduce lr to 0.0002500000118743628\n",
      " 67200/100000 [===================>..........] - ETA: 2:34 - loss: 0.9222 - val loss: 1.6577 - accuracy: 0.9375 - val accuracy: 0.8617\n",
      "Plateau reached.\n",
      "INFO:tensorflow:Restoring parameters from ./ckpt/WE_Label-11980\n",
      "\n",
      "Reduce lr to 0.0001250000059371814\n",
      " 88500/100000 [=========================>....] - ETA: 53s - loss: 0.7481 - val loss: 1.7308 - accuracy: 0.9375 - val accuracy: 0.8629\n",
      "Plateau reached.\n",
      "INFO:tensorflow:Restoring parameters from ./ckpt/WE_Label-11980\n",
      "\n",
      "Reduce lr to 6.25000029685907e-05\n",
      "100000/100000 [==============================] - 459s 5ms/step - loss: 0.2847 - val loss: 1.2457 - accuracy: 0.9375 - val accuracy: 0.8629\n",
      "emb 10, nce 20, acc 0.8530042918454935\n",
      "Initialized\n",
      " 27400/100000 [=======>......................] - ETA: 5:21 - loss: 0.2562 - val loss: 0.6893 - accuracy: 1.0000 - val accuracy: 0.8594\n",
      "Plateau reached.\n",
      "INFO:tensorflow:Restoring parameters from ./ckpt/WE_Label-5540\n",
      "\n",
      "Reduce lr to 0.0005000000237487257\n",
      " 48500/100000 [=============>................] - ETA: 3:46 - loss: 0.0417 - val loss: 0.6253 - accuracy: 0.9375 - val accuracy: 0.8629\n",
      "Plateau reached.\n",
      "INFO:tensorflow:Restoring parameters from ./ckpt/WE_Label-5540\n",
      "\n",
      "Reduce lr to 0.0002500000118743628\n",
      " 80800/100000 [=======================>......] - ETA: 1:24 - loss: 0.0466 - val loss: 0.6809 - accuracy: 0.9375 - val accuracy: 0.8617\n",
      "Plateau reached.\n",
      "INFO:tensorflow:Restoring parameters from ./ckpt/WE_Label-5540\n",
      "\n",
      "Reduce lr to 0.0001250000059371814\n",
      "100000/100000 [==============================] - 439s 4ms/step - loss: 0.0406 - val loss: 0.7270 - accuracy: 0.9688 - val accuracy: 0.8605\n",
      "emb 20, nce 5, acc 0.8615879828326181\n",
      "Initialized\n",
      " 20800/100000 [=====>........................] - ETA: 5:53 - loss: 0.3949 - val loss: 1.7759 - accuracy: 0.9062 - val accuracy: 0.8510\n",
      "Plateau reached.\n",
      "INFO:tensorflow:Restoring parameters from ./ckpt/WE_Label-5920\n",
      "\n",
      "Reduce lr to 0.0005000000237487257\n",
      " 49900/100000 [=============>................] - ETA: 3:43 - loss: 0.1813 - val loss: 1.1375 - accuracy: 1.0000 - val accuracy: 0.8605\n",
      "Plateau reached.\n",
      "INFO:tensorflow:Restoring parameters from ./ckpt/WE_Label-21230\n",
      "\n",
      "Reduce lr to 0.0002500000118743628\n",
      " 67800/100000 [===================>..........] - ETA: 2:23 - loss: 0.1137 - val loss: 1.0348 - accuracy: 0.9375 - val accuracy: 0.8570\n",
      "Plateau reached.\n",
      "INFO:tensorflow:Restoring parameters from ./ckpt/WE_Label-21230\n",
      "\n",
      "Reduce lr to 0.0001250000059371814\n",
      " 89200/100000 [=========================>....] - ETA: 48s - loss: 0.5360 - val loss: 0.8466 - accuracy: 0.9375 - val accuracy: 0.8534\n",
      "Plateau reached.\n",
      "INFO:tensorflow:Restoring parameters from ./ckpt/WE_Label-21230\n",
      "\n",
      "Reduce lr to 6.25000029685907e-05\n",
      "100000/100000 [==============================] - 445s 4ms/step - loss: 0.7533 - val loss: 0.7568 - accuracy: 0.8750 - val accuracy: 0.8570\n",
      "emb 20, nce 10, acc 0.8562231759656652\n",
      "Initialized\n",
      " 20000/100000 [=====>........................] - ETA: 5:56 - loss: 0.6301 - val loss: 0.9263 - accuracy: 0.8750 - val accuracy: 0.8749\n",
      "Plateau reached.\n",
      "INFO:tensorflow:Restoring parameters from ./ckpt/WE_Label-5590\n",
      "\n",
      "Reduce lr to 0.0005000000237487257\n",
      " 36800/100000 [==========>...................] - ETA: 4:39 - loss: 0.9709 - val loss: 1.5274 - accuracy: 0.9375 - val accuracy: 0.8737\n",
      "Plateau reached.\n",
      "INFO:tensorflow:Restoring parameters from ./ckpt/WE_Label-5590\n",
      "\n",
      "Reduce lr to 0.0002500000118743628\n",
      " 65200/100000 [==================>...........] - ETA: 2:33 - loss: 0.5911 - val loss: 1.0587 - accuracy: 0.9688 - val accuracy: 0.8713\n",
      "Plateau reached.\n",
      "INFO:tensorflow:Restoring parameters from ./ckpt/WE_Label-5590\n",
      "\n",
      "Reduce lr to 0.0001250000059371814\n",
      " 81400/100000 [=======================>......] - ETA: 1:21 - loss: 1.1253 - val loss: 1.1544 - accuracy: 0.8750 - val accuracy: 0.8701\n",
      "Plateau reached.\n",
      "INFO:tensorflow:Restoring parameters from ./ckpt/WE_Label-5590\n",
      "\n",
      "Reduce lr to 6.25000029685907e-05\n",
      "100000/100000 [==============================] - 439s 4ms/step - loss: 0.6114 - val loss: 1.3190 - accuracy: 0.9062 - val accuracy: 0.8677\n",
      "emb 20, nce 20, acc 0.8412017167381974\n",
      "Initialized\n",
      " 35300/100000 [=========>....................] - ETA: 6:20 - loss: 0.3781 - val loss: 0.6705 - accuracy: 0.9375 - val accuracy: 0.8498\n",
      "Plateau reached.\n",
      "INFO:tensorflow:Restoring parameters from ./ckpt/WE_Label-4730\n",
      "\n",
      "Reduce lr to 0.0005000000237487257\n"
     ]
    },
    {
     "name": "stdout",
     "output_type": "stream",
     "text": [
      " 53200/100000 [==============>...............] - ETA: 4:16 - loss: 0.0559 - val loss: 1.1492 - accuracy: 1.0000 - val accuracy: 0.8427\n",
      "Plateau reached.\n",
      "INFO:tensorflow:Restoring parameters from ./ckpt/WE_Label-4730\n",
      "\n",
      "Reduce lr to 0.0002500000118743628\n",
      " 83400/100000 [========================>.....] - ETA: 1:24 - loss: 0.0479 - val loss: 0.8334 - accuracy: 0.9688 - val accuracy: 0.8498\n",
      "Plateau reached.\n",
      "INFO:tensorflow:Restoring parameters from ./ckpt/WE_Label-4730\n",
      "\n",
      "Reduce lr to 0.0001250000059371814\n",
      "100000/100000 [==============================] - 499s 5ms/step - loss: 0.0452 - val loss: 0.5593 - accuracy: 1.0000 - val accuracy: 0.8379\n",
      "emb 30, nce 5, acc 0.8680257510729614\n",
      "Initialized\n",
      " 31400/100000 [========>.....................] - ETA: 5:03 - loss: 0.1049 - val loss: 1.2652 - accuracy: 0.9375 - val accuracy: 0.8617\n",
      "Plateau reached.\n",
      "INFO:tensorflow:Restoring parameters from ./ckpt/WE_Label-6880\n",
      "\n",
      "Reduce lr to 0.0005000000237487257\n",
      " 58300/100000 [================>.............] - ETA: 3:04 - loss: 0.1773 - val loss: 1.3450 - accuracy: 0.9375 - val accuracy: 0.8617\n",
      "Plateau reached.\n",
      "INFO:tensorflow:Restoring parameters from ./ckpt/WE_Label-6880\n",
      "\n",
      "Reduce lr to 0.0002500000118743628\n",
      " 82400/100000 [=======================>......] - ETA: 1:17 - loss: 0.0912 - val loss: 0.7941 - accuracy: 1.0000 - val accuracy: 0.8641\n",
      "Plateau reached.\n",
      "INFO:tensorflow:Restoring parameters from ./ckpt/WE_Label-58700\n",
      "\n",
      "Reduce lr to 0.0001250000059371814\n",
      "100000/100000 [==============================] - 440s 4ms/step - loss: 0.0964 - val loss: 1.0402 - accuracy: 1.0000 - val accuracy: 0.8665\n",
      "emb 30, nce 10, acc 0.8540772532188842\n",
      "Initialized\n",
      " 33500/100000 [=========>....................] - ETA: 4:56 - loss: 0.5497 - val loss: 1.3290 - accuracy: 1.0000 - val accuracy: 0.8617\n",
      "Plateau reached.\n",
      "INFO:tensorflow:Restoring parameters from ./ckpt/WE_Label-8330\n",
      "\n",
      "Reduce lr to 0.0005000000237487257\n",
      " 61600/100000 [=================>............] - ETA: 2:50 - loss: 0.3753 - val loss: 1.2811 - accuracy: 1.0000 - val accuracy: 0.8605\n",
      "Plateau reached.\n",
      "INFO:tensorflow:Restoring parameters from ./ckpt/WE_Label-8330\n",
      "\n",
      "Reduce lr to 0.0002500000118743628\n",
      " 84100/100000 [========================>.....] - ETA: 1:10 - loss: 0.6604 - val loss: 0.9462 - accuracy: 0.9375 - val accuracy: 0.8641\n",
      "Plateau reached.\n",
      "INFO:tensorflow:Restoring parameters from ./ckpt/WE_Label-8330\n",
      "\n",
      "Reduce lr to 0.0001250000059371814\n",
      "100000/100000 [==============================] - 442s 4ms/step - loss: 0.3691 - val loss: 1.5568 - accuracy: 0.9688 - val accuracy: 0.8701\n",
      "emb 30, nce 20, acc 0.8497854077253219\n",
      "Initialized\n",
      " 37100/100000 [==========>...................] - ETA: 4:40 - loss: 0.0458 - val loss: 0.9230 - accuracy: 0.9375 - val accuracy: 0.8701\n",
      "Plateau reached.\n",
      "INFO:tensorflow:Restoring parameters from ./ckpt/WE_Label-3860\n",
      "\n",
      "Reduce lr to 0.0005000000237487257\n",
      " 55900/100000 [===============>..............] - ETA: 3:15 - loss: 0.2567 - val loss: 0.6701 - accuracy: 0.9375 - val accuracy: 0.8582\n",
      "Plateau reached.\n",
      "INFO:tensorflow:Restoring parameters from ./ckpt/WE_Label-37310\n",
      "\n",
      "Reduce lr to 0.0002500000118743628\n",
      " 79500/100000 [======================>.......] - ETA: 1:31 - loss: 0.4220 - val loss: 0.6907 - accuracy: 1.0000 - val accuracy: 0.8629\n",
      "Plateau reached.\n",
      "INFO:tensorflow:Restoring parameters from ./ckpt/WE_Label-37310\n",
      "\n",
      "Reduce lr to 0.0001250000059371814\n",
      "100000/100000 [==============================] - 444s 4ms/step - loss: 0.0662 - val loss: 0.6769 - accuracy: 0.9688 - val accuracy: 0.8689\n",
      "emb 40, nce 5, acc 0.8572961373390557\n",
      "Initialized\n",
      " 18100/100000 [====>.........................] - ETA: 6:03 - loss: 0.5024 - val loss: 0.9245 - accuracy: 0.8750 - val accuracy: 0.8772\n",
      "Plateau reached.\n",
      "INFO:tensorflow:Restoring parameters from ./ckpt/WE_Label-4570\n",
      "\n",
      "Reduce lr to 0.0005000000237487257\n",
      " 39400/100000 [==========>...................] - ETA: 4:28 - loss: 0.4720 - val loss: 0.8958 - accuracy: 0.8750 - val accuracy: 0.8737\n",
      "Plateau reached.\n",
      "INFO:tensorflow:Restoring parameters from ./ckpt/WE_Label-4570\n",
      "\n",
      "Reduce lr to 0.0002500000118743628\n",
      " 53400/100000 [===============>..............] - ETA: 3:26 - loss: 0.5325 - val loss: 0.8909 - accuracy: 1.0000 - val accuracy: 0.8737\n",
      "Plateau reached.\n",
      "INFO:tensorflow:Restoring parameters from ./ckpt/WE_Label-4570\n",
      "\n",
      "Reduce lr to 0.0001250000059371814\n",
      " 74000/100000 [=====================>........] - ETA: 1:55 - loss: 0.1224 - val loss: 0.7249 - accuracy: 0.9062 - val accuracy: 0.8796\n",
      "Plateau reached.\n",
      "INFO:tensorflow:Restoring parameters from ./ckpt/WE_Label-4570\n",
      "\n",
      "Reduce lr to 6.25000029685907e-05\n",
      " 87800/100000 [=========================>....] - ETA: 54s - loss: 0.0965 - val loss: 0.8726 - accuracy: 0.9062 - val accuracy: 0.8760\n",
      "Plateau reached.\n",
      "INFO:tensorflow:Restoring parameters from ./ckpt/WE_Label-74950\n",
      "\n",
      "Reduce lr to 3.125000148429535e-05\n",
      "100000/100000 [==============================] - 444s 4ms/step - loss: 0.2326 - val loss: 0.7469 - accuracy: 0.9688 - val accuracy: 0.8796\n",
      "emb 40, nce 10, acc 0.8594420600858369\n",
      "Initialized\n",
      " 23200/100000 [=====>........................] - ETA: 5:48 - loss: 0.3079 - val loss: 1.5373 - accuracy: 0.9688 - val accuracy: 0.8701\n",
      "Plateau reached.\n",
      "INFO:tensorflow:Restoring parameters from ./ckpt/WE_Label-4730\n",
      "\n",
      "Reduce lr to 0.0005000000237487257\n",
      " 35900/100000 [=========>....................] - ETA: 4:48 - loss: 0.5598 - val loss: 1.2749 - accuracy: 0.9688 - val accuracy: 0.8760\n",
      "Plateau reached.\n",
      "INFO:tensorflow:Restoring parameters from ./ckpt/WE_Label-23580\n",
      "\n",
      "Reduce lr to 0.0002500000118743628\n",
      " 49100/100000 [=============>................] - ETA: 3:48 - loss: 0.3859 - val loss: 1.6194 - accuracy: 0.9688 - val accuracy: 0.8737\n",
      "Plateau reached.\n",
      "INFO:tensorflow:Restoring parameters from ./ckpt/WE_Label-23580\n",
      "\n",
      "Reduce lr to 0.0001250000059371814\n",
      " 66200/100000 [==================>...........] - ETA: 2:31 - loss: 0.6512 - val loss: 1.7786 - accuracy: 0.9688 - val accuracy: 0.8749\n",
      "Plateau reached.\n",
      "INFO:tensorflow:Restoring parameters from ./ckpt/WE_Label-23580\n",
      "\n",
      "Reduce lr to 6.25000029685907e-05\n",
      " 80900/100000 [=======================>......] - ETA: 1:25 - loss: 0.7120 - val loss: 1.2081 - accuracy: 1.0000 - val accuracy: 0.8737\n",
      "Plateau reached.\n",
      "INFO:tensorflow:Restoring parameters from ./ckpt/WE_Label-23580\n",
      "\n",
      "Reduce lr to 3.125000148429535e-05\n",
      " 94100/100000 [===========================>..] - ETA: 26s - loss: 0.5889 - val loss: 1.1870 - accuracy: 0.9688 - val accuracy: 0.8689\n",
      "Plateau reached.\n",
      "INFO:tensorflow:Restoring parameters from ./ckpt/WE_Label-23580\n",
      "\n",
      "Reduce lr to 1.5625000742147677e-05\n",
      "100000/100000 [==============================] - 447s 4ms/step - loss: 0.7125 - val loss: 0.9458 - accuracy: 0.9062 - val accuracy: 0.8820\n",
      "emb 40, nce 20, acc 0.851931330472103\n",
      "Initialized\n",
      " 23700/100000 [======>.......................] - ETA: 5:40 - loss: 0.0832 - val loss: 0.7182 - accuracy: 0.9375 - val accuracy: 0.8546\n",
      "Plateau reached.\n",
      "INFO:tensorflow:Restoring parameters from ./ckpt/WE_Label-3320\n",
      "\n",
      "Reduce lr to 0.0005000000237487257\n",
      " 46600/100000 [============>.................] - ETA: 3:56 - loss: 0.5385 - val loss: 0.7821 - accuracy: 0.9375 - val accuracy: 0.8546\n",
      "Plateau reached.\n",
      "INFO:tensorflow:Restoring parameters from ./ckpt/WE_Label-3320\n",
      "\n",
      "Reduce lr to 0.0002500000118743628\n",
      " 61300/100000 [=================>............] - ETA: 2:51 - loss: 0.0527 - val loss: 0.6510 - accuracy: 0.9375 - val accuracy: 0.8617\n",
      "Plateau reached.\n",
      "INFO:tensorflow:Restoring parameters from ./ckpt/WE_Label-3320\n",
      "\n",
      "Reduce lr to 0.0001250000059371814\n",
      " 79100/100000 [======================>.......] - ETA: 1:32 - loss: 0.4279 - val loss: 0.7205 - accuracy: 0.9688 - val accuracy: 0.8534\n",
      "Plateau reached.\n",
      "INFO:tensorflow:Restoring parameters from ./ckpt/WE_Label-3320\n",
      "\n",
      "Reduce lr to 6.25000029685907e-05\n",
      " 96300/100000 [===========================>..] - ETA: 16s - loss: 0.3106 - val loss: 0.8136 - accuracy: 1.0000 - val accuracy: 0.8534\n",
      "Plateau reached.\n",
      "INFO:tensorflow:Restoring parameters from ./ckpt/WE_Label-79150\n",
      "\n",
      "Reduce lr to 3.125000148429535e-05\n",
      "100000/100000 [==============================] - 442s 4ms/step - loss: 0.5735 - val loss: 0.4686 - accuracy: 0.8438 - val accuracy: 0.8546\n",
      "emb 50, nce 5, acc 0.842274678111588\n",
      "Initialized\n"
     ]
    },
    {
     "name": "stdout",
     "output_type": "stream",
     "text": [
      " 29200/100000 [=======>......................] - ETA: 5:20 - loss: 0.6673 - val loss: 0.9719 - accuracy: 0.9688 - val accuracy: 0.8665\n",
      "Plateau reached.\n",
      "INFO:tensorflow:Restoring parameters from ./ckpt/WE_Label-4660\n",
      "\n",
      "Reduce lr to 0.0005000000237487257\n",
      " 46700/100000 [=============>................] - ETA: 3:59 - loss: 0.5175 - val loss: 1.2722 - accuracy: 1.0000 - val accuracy: 0.8665\n",
      "Plateau reached.\n",
      "INFO:tensorflow:Restoring parameters from ./ckpt/WE_Label-31420\n",
      "\n",
      "Reduce lr to 0.0002500000118743628\n",
      " 64100/100000 [==================>...........] - ETA: 2:41 - loss: 0.3171 - val loss: 0.8470 - accuracy: 0.9062 - val accuracy: 0.8737\n",
      "Plateau reached.\n",
      "INFO:tensorflow:Restoring parameters from ./ckpt/WE_Label-31420\n",
      "\n",
      "Reduce lr to 0.0001250000059371814\n",
      " 88200/100000 [=========================>....] - ETA: 52s - loss: 0.0842 - val loss: 1.3570 - accuracy: 0.9688 - val accuracy: 0.8737\n",
      "Plateau reached.\n",
      "INFO:tensorflow:Restoring parameters from ./ckpt/WE_Label-31420\n",
      "\n",
      "Reduce lr to 6.25000029685907e-05\n",
      "100000/100000 [==============================] - 448s 4ms/step - loss: 0.7195 - val loss: 1.4866 - accuracy: 0.9688 - val accuracy: 0.8713\n",
      "emb 50, nce 10, acc 0.851931330472103\n",
      "Initialized\n",
      " 26000/100000 [======>.......................] - ETA: 5:34 - loss: 0.2448 - val loss: 1.2809 - accuracy: 0.9375 - val accuracy: 0.8749\n",
      "Plateau reached.\n",
      "INFO:tensorflow:Restoring parameters from ./ckpt/WE_Label-6110\n",
      "\n",
      "Reduce lr to 0.0005000000237487257\n",
      " 53200/100000 [==============>...............] - ETA: 3:27 - loss: 0.5022 - val loss: 1.7059 - accuracy: 0.9688 - val accuracy: 0.8760\n",
      "Plateau reached.\n",
      "INFO:tensorflow:Restoring parameters from ./ckpt/WE_Label-6110\n",
      "\n",
      "Reduce lr to 0.0002500000118743628\n",
      " 86600/100000 [========================>.....] - ETA: 59s - loss: 0.5755 - val loss: 1.3666 - accuracy: 1.0000 - val accuracy: 0.8784\n",
      "Plateau reached.\n",
      "INFO:tensorflow:Restoring parameters from ./ckpt/WE_Label-6110\n",
      "\n",
      "Reduce lr to 0.0001250000059371814\n",
      "100000/100000 [==============================] - 442s 4ms/step - loss: 0.8872 - val loss: 1.1997 - accuracy: 1.0000 - val accuracy: 0.8701\n",
      "emb 50, nce 20, acc 0.8530042918454935\n",
      "Initialized\n",
      " 24800/100000 [======>.......................] - ETA: 5:30 - loss: 0.0596 - val loss: 0.5718 - accuracy: 0.9688 - val accuracy: 0.8760\n",
      "Plateau reached.\n",
      "INFO:tensorflow:Restoring parameters from ./ckpt/WE_Label-3130\n",
      "\n",
      "Reduce lr to 0.0005000000237487257\n",
      " 53000/100000 [==============>...............] - ETA: 3:27 - loss: 0.0515 - val loss: 0.5758 - accuracy: 0.9688 - val accuracy: 0.8760\n",
      "Plateau reached.\n",
      "INFO:tensorflow:Restoring parameters from ./ckpt/WE_Label-25330\n",
      "\n",
      "Reduce lr to 0.0002500000118743628\n",
      " 77100/100000 [======================>.......] - ETA: 1:41 - loss: 0.0438 - val loss: 0.5905 - accuracy: 0.9688 - val accuracy: 0.8725\n",
      "Plateau reached.\n",
      "INFO:tensorflow:Restoring parameters from ./ckpt/WE_Label-25330\n",
      "\n",
      "Reduce lr to 0.0001250000059371814\n",
      "100000/100000 [==============================] - 442s 4ms/step - loss: 0.0506 - val loss: 0.5941 - accuracy: 1.0000 - val accuracy: 0.8641\n",
      "emb 60, nce 5, acc 0.8562231759656652\n",
      "Initialized\n",
      " 25100/100000 [======>.......................] - ETA: 5:38 - loss: 0.1042 - val loss: 1.4802 - accuracy: 0.9688 - val accuracy: 0.8427\n",
      "Plateau reached.\n",
      "INFO:tensorflow:Restoring parameters from ./ckpt/WE_Label-4040\n",
      "\n",
      "Reduce lr to 0.0005000000237487257\n",
      " 42200/100000 [===========>..................] - ETA: 4:19 - loss: 0.2883 - val loss: 1.4563 - accuracy: 0.9375 - val accuracy: 0.8355\n",
      "Plateau reached.\n",
      "INFO:tensorflow:Restoring parameters from ./ckpt/WE_Label-4040\n",
      "\n",
      "Reduce lr to 0.0002500000118743628\n",
      " 67500/100000 [===================>..........] - ETA: 2:26 - loss: 0.5469 - val loss: 1.3500 - accuracy: 1.0000 - val accuracy: 0.8319\n",
      "Plateau reached.\n",
      "INFO:tensorflow:Restoring parameters from ./ckpt/WE_Label-42720\n",
      "\n",
      "Reduce lr to 0.0001250000059371814\n",
      " 82400/100000 [=======================>......] - ETA: 1:18 - loss: 0.0968 - val loss: 1.0542 - accuracy: 1.0000 - val accuracy: 0.8212\n",
      "Plateau reached.\n",
      "INFO:tensorflow:Restoring parameters from ./ckpt/WE_Label-42720\n",
      "\n",
      "Reduce lr to 6.25000029685907e-05\n",
      "100000/100000 [==============================] - 449s 4ms/step - loss: 0.5282 - val loss: 1.3449 - accuracy: 0.9375 - val accuracy: 0.8391\n",
      "emb 60, nce 10, acc 0.8562231759656652\n",
      "Initialized\n",
      " 16800/100000 [====>.........................] - ETA: 6:18 - loss: 0.8550 - val loss: 1.4800 - accuracy: 0.9062 - val accuracy: 0.8653\n",
      "Plateau reached.\n",
      "INFO:tensorflow:Restoring parameters from ./ckpt/WE_Label-4950\n",
      "\n",
      "Reduce lr to 0.0005000000237487257\n",
      " 35600/100000 [=========>....................] - ETA: 4:47 - loss: 0.4377 - val loss: 1.0243 - accuracy: 0.9062 - val accuracy: 0.8665\n",
      "Plateau reached.\n",
      "INFO:tensorflow:Restoring parameters from ./ckpt/WE_Label-4950\n",
      "\n",
      "Reduce lr to 0.0002500000118743628\n",
      " 46700/100000 [=============>................] - ETA: 3:57 - loss: 0.5149 - val loss: 1.3468 - accuracy: 1.0000 - val accuracy: 0.8558\n",
      "Plateau reached.\n",
      "INFO:tensorflow:Restoring parameters from ./ckpt/WE_Label-4950\n",
      "\n",
      "Reduce lr to 0.0001250000059371814\n",
      " 57500/100000 [================>.............] - ETA: 3:08 - loss: 0.5297 - val loss: 1.0325 - accuracy: 0.9688 - val accuracy: 0.8701\n",
      "Plateau reached.\n",
      "INFO:tensorflow:Restoring parameters from ./ckpt/WE_Label-4950\n",
      "\n",
      "Reduce lr to 6.25000029685907e-05\n",
      " 70800/100000 [====================>.........] - ETA: 2:09 - loss: 0.9143 - val loss: 1.1436 - accuracy: 0.9375 - val accuracy: 0.8617\n",
      "Plateau reached.\n",
      "INFO:tensorflow:Restoring parameters from ./ckpt/WE_Label-4950\n",
      "\n",
      "Reduce lr to 3.125000148429535e-05\n",
      " 83800/100000 [========================>.....] - ETA: 1:11 - loss: 0.4455 - val loss: 1.0255 - accuracy: 0.8750 - val accuracy: 0.8701\n",
      "Plateau reached.\n",
      "INFO:tensorflow:Restoring parameters from ./ckpt/WE_Label-73020\n",
      "\n",
      "Reduce lr to 1.5625000742147677e-05\n",
      " 93900/100000 [===========================>..] - ETA: 27s - loss: 0.2403 - val loss: 1.2855 - accuracy: 0.9688 - val accuracy: 0.8701\n",
      "Plateau reached.\n",
      "INFO:tensorflow:Restoring parameters from ./ckpt/WE_Label-73020\n",
      "\n",
      "Reduce lr to 7.812500371073838e-06\n",
      "emb 60, nce 20, acc 0.8572961373390557\n",
      "Initialized\n",
      " 18900/100000 [====>.........................] - ETA: 6:07 - loss: 0.0313 - val loss: 0.7875 - accuracy: 0.9375 - val accuracy: 0.8510\n",
      "Plateau reached.\n",
      "INFO:tensorflow:Restoring parameters from ./ckpt/WE_Label-3360\n",
      "\n",
      "Reduce lr to 0.0005000000237487257\n",
      " 37000/100000 [==========>...................] - ETA: 4:42 - loss: 0.3155 - val loss: 0.6760 - accuracy: 0.9375 - val accuracy: 0.8534\n",
      "Plateau reached.\n",
      "INFO:tensorflow:Restoring parameters from ./ckpt/WE_Label-3360\n",
      "\n",
      "Reduce lr to 0.0002500000118743628\n",
      " 59400/100000 [================>.............] - ETA: 3:01 - loss: 0.0579 - val loss: 1.2306 - accuracy: 0.9688 - val accuracy: 0.8474\n",
      "Plateau reached.\n",
      "INFO:tensorflow:Restoring parameters from ./ckpt/WE_Label-37240\n",
      "\n",
      "Reduce lr to 0.0001250000059371814\n",
      " 75800/100000 [=====================>........] - ETA: 1:47 - loss: 0.0439 - val loss: 0.5959 - accuracy: 0.9375 - val accuracy: 0.8582\n",
      "Plateau reached.\n",
      "INFO:tensorflow:Restoring parameters from ./ckpt/WE_Label-37240\n",
      "\n",
      "Reduce lr to 6.25000029685907e-05\n",
      " 89400/100000 [=========================>....] - ETA: 47s - loss: 0.3078 - val loss: 1.3493 - accuracy: 0.9062 - val accuracy: 0.8510\n",
      "Plateau reached.\n",
      "INFO:tensorflow:Restoring parameters from ./ckpt/WE_Label-37240\n",
      "\n",
      "Reduce lr to 3.125000148429535e-05\n",
      "100000/100000 [==============================] - 446s 4ms/step - loss: 0.4981 - val loss: 0.5511 - accuracy: 0.9688 - val accuracy: 0.8486\n",
      "emb 70, nce 5, acc 0.8562231759656652\n",
      "Initialized\n",
      " 26100/100000 [======>.......................] - ETA: 5:34 - loss: 1.0366 - val loss: 0.9520 - accuracy: 1.0000 - val accuracy: 0.8713\n",
      "Plateau reached.\n",
      "INFO:tensorflow:Restoring parameters from ./ckpt/WE_Label-4150\n",
      "\n",
      "Reduce lr to 0.0005000000237487257\n",
      " 38800/100000 [==========>...................] - ETA: 4:36 - loss: 0.3120 - val loss: 1.2003 - accuracy: 0.9688 - val accuracy: 0.8701\n",
      "Plateau reached.\n",
      "INFO:tensorflow:Restoring parameters from ./ckpt/WE_Label-4150\n",
      "\n",
      "Reduce lr to 0.0002500000118743628\n",
      " 56200/100000 [===============>..............] - ETA: 3:17 - loss: 0.1326 - val loss: 1.3973 - accuracy: 0.9688 - val accuracy: 0.8701\n",
      "Plateau reached.\n",
      "INFO:tensorflow:Restoring parameters from ./ckpt/WE_Label-4150\n"
     ]
    },
    {
     "name": "stdout",
     "output_type": "stream",
     "text": [
      "\n",
      "Reduce lr to 0.0001250000059371814\n",
      " 75100/100000 [=====================>........] - ETA: 1:51 - loss: 0.3722 - val loss: 0.9527 - accuracy: 1.0000 - val accuracy: 0.8677\n",
      "Plateau reached.\n",
      "INFO:tensorflow:Restoring parameters from ./ckpt/WE_Label-4150\n",
      "\n",
      "Reduce lr to 6.25000029685907e-05\n",
      " 89300/100000 [=========================>....] - ETA: 48s - loss: 0.4497 - val loss: 0.7800 - accuracy: 0.9688 - val accuracy: 0.8653\n",
      "Plateau reached.\n",
      "INFO:tensorflow:Restoring parameters from ./ckpt/WE_Label-4150\n",
      "\n",
      "Reduce lr to 3.125000148429535e-05\n",
      "100000/100000 [==============================] - 449s 4ms/step - loss: 0.5247 - val loss: 1.4237 - accuracy: 0.9375 - val accuracy: 0.8665\n",
      "emb 70, nce 10, acc 0.851931330472103\n",
      "Initialized\n",
      " 21200/100000 [=====>........................] - ETA: 5:55 - loss: 0.6455 - val loss: 1.8493 - accuracy: 0.9688 - val accuracy: 0.8629\n",
      "Plateau reached.\n",
      "INFO:tensorflow:Restoring parameters from ./ckpt/WE_Label-4190\n",
      "\n",
      "Reduce lr to 0.0005000000237487257\n",
      " 41600/100000 [===========>..................] - ETA: 4:21 - loss: 0.7971 - val loss: 1.4832 - accuracy: 0.9062 - val accuracy: 0.8677\n",
      "Plateau reached.\n",
      "INFO:tensorflow:Restoring parameters from ./ckpt/WE_Label-21840\n",
      "\n",
      "Reduce lr to 0.0002500000118743628\n",
      " 66400/100000 [==================>...........] - ETA: 2:29 - loss: 0.8207 - val loss: 1.7171 - accuracy: 1.0000 - val accuracy: 0.8701\n",
      "Plateau reached.\n",
      "INFO:tensorflow:Restoring parameters from ./ckpt/WE_Label-21840\n",
      "\n",
      "Reduce lr to 0.0001250000059371814\n",
      "100000/100000 [==============================] - 446s 4ms/step - loss: 0.9099 - val loss: 1.6242 - accuracy: 1.0000 - val accuracy: 0.8677\n",
      "emb 70, nce 20, acc 0.8562231759656652\n"
     ]
    }
   ],
   "source": [
    "df_perf = pd.DataFrame()\n",
    "\n",
    "for embedding_size in (10, 20, 30, 40, 50, 60, 70):\n",
    "    for num_sampled in (5, 10, 20):\n",
    "    \n",
    "        FN_WEIGHT = './weight_dbg/weight_WE_emb{0}_nce{1}.p'.format(embedding_size, num_sampled)\n",
    "\n",
    "        # Create model\n",
    "        model = WE_Label(word_size=N,\n",
    "                         vocabulary_size=len(universe_desc),\n",
    "                         label_size=len(universe_label),\n",
    "                         embedding_size=embedding_size)\n",
    "\n",
    "        # Build\n",
    "        model.build(universe_x=universe_desc, universe_y=universe_label)\n",
    "\n",
    "        # Compile\n",
    "        model.compile(num_sampled=num_sampled)     # num_samples:   no. of negative samples in tf.nn.nce_loss\n",
    "\n",
    "\n",
    "        model.fit(x_train, y_train, verbose=True)\n",
    "\n",
    "        # Save\n",
    "        model.save_model(FN_WEIGHT)\n",
    "\n",
    "        # Load\n",
    "        model.load_model(FN_WEIGHT)\n",
    "\n",
    "        # Inference\n",
    "        y_pred = model.predict(x_test)\n",
    "\n",
    "        # Evaluate\n",
    "        perc_match = (y_pred == y_test).sum() / y_test.shape[0]\n",
    "        print('emb {0}, nce {1}, acc {2}'.format(embedding_size, num_sampled, perc_match))\n",
    "        \n",
    "        df_perf = df_perf.append(pd.DataFrame({'embedding_size': [embedding_size],\n",
    "                                               'num_sampled': [num_sampled],\n",
    "                                               'accuracy': [perc_match]}))        \n",
    "        \n",
    "        \n",
    "        "
   ]
  },
  {
   "cell_type": "code",
   "execution_count": 11,
   "metadata": {},
   "outputs": [
    {
     "data": {
      "text/plain": [
       "<matplotlib.axes._subplots.AxesSubplot at 0x7f5b49e16550>"
      ]
     },
     "execution_count": 11,
     "metadata": {},
     "output_type": "execute_result"
    },
    {
     "data": {
      "image/png": "[encoded data removed]",
      "text/plain": [
       "<Figure size 432x288 with 2 Axes>"
      ]
     },
     "metadata": {
      "needs_background": "light"
     },
     "output_type": "display_data"
    }
   ],
   "source": [
    "sns.heatmap(df_perf.pivot(index='embedding_size', columns='num_sampled', values='accuracy'), cmap='summer')"
   ]
  },
  {
   "cell_type": "code",
   "execution_count": 12,
   "metadata": {},
   "outputs": [],
   "source": [
    "param_optim = {'embedding_size': 30,\n",
    "               'num_sampled': 5}"
   ]
  }
 ],
 "metadata": {
  "kernelspec": {
   "display_name": "Python 3",
   "language": "python",
   "name": "python3"
  },
  "language_info": {
   "codemirror_mode": {
    "name": "ipython",
    "version": 3
   },
   "file_extension": ".py",
   "mimetype": "text/x-python",
   "name": "python",
   "nbconvert_exporter": "python",
   "pygments_lexer": "ipython3",
   "version": "3.7.3"
  },
  "toc": {
   "base_numbering": 1,
   "nav_menu": {},
   "number_sections": true,
   "sideBar": true,
   "skip_h1_title": false,
   "title_cell": "Table of Contents",
   "title_sidebar": "Contents",
   "toc_cell": false,
   "toc_position": {},
   "toc_section_display": true,
   "toc_window_display": true
  }
 },
 "nbformat": 4,
 "nbformat_minor": 2
}
