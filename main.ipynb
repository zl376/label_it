{
 "cells": [
  {
   "cell_type": "code",
   "execution_count": 1,
   "metadata": {},
   "outputs": [],
   "source": [
    "import numpy as np\n",
    "import pandas as pd\n",
    "from itertools import chain\n",
    "from model.SVD_Label import SVD_Label\n",
    "from model.NMF_Label import NMF_Label"
   ]
  },
  {
   "cell_type": "markdown",
   "metadata": {},
   "source": [
    "# Setting "
   ]
  },
  {
   "cell_type": "code",
   "execution_count": 2,
   "metadata": {},
   "outputs": [],
   "source": [
    "FD_DATA = './data/'\n",
    "FD_WEIGHT = './weight/'\n",
    "FN_DATA = FD_DATA + 'data_sample.csv'\n",
    "# FN_WEIGHT = FD_WEIGHT + 'weight_SVD.p'\n",
    "FN_WEIGHT = FD_WEIGHT + 'weight_NMF.p'"
   ]
  },
  {
   "cell_type": "markdown",
   "metadata": {},
   "source": [
    "# Load Data"
   ]
  },
  {
   "cell_type": "code",
   "execution_count": 29,
   "metadata": {},
   "outputs": [
    {
     "data": {
      "text/plain": [
       "(Index(['DESC', 'LABEL', 'LABEL_DESC'], dtype='object'), 9327)"
      ]
     },
     "execution_count": 29,
     "metadata": {},
     "output_type": "execute_result"
    }
   ],
   "source": [
    "df = pd.read_csv(FN_DATA, encoding='latin-1')\n",
    "N = df.shape[0]\n",
    "\n",
    "# Map label to label description \n",
    "map_l2d = dict(df.groupby(by='LABEL')['LABEL_DESC'].first().reset_index().values.tolist())\n",
    "\n",
    "df.columns, N"
   ]
  },
  {
   "cell_type": "markdown",
   "metadata": {},
   "source": [
    "# Train SVD Labeller"
   ]
  },
  {
   "cell_type": "code",
   "execution_count": 5,
   "metadata": {},
   "outputs": [],
   "source": [
    "# Create model\n",
    "model = SVD_Label(n_components=22)\n",
    "\n",
    "# Build\n",
    "universe_desc = set(chain.from_iterable(df.DESC.str.split().values))\n",
    "universe_label = set(df.LABEL.values)\n",
    "model.build(universe_x=universe_desc, universe_y=universe_label)\n",
    "\n",
    "# Compile\n",
    "model.compile()\n",
    "\n",
    "# Fit\n",
    "x = df.DESC.str.split().values\n",
    "y_true = df.LABEL.values\n",
    "model.fit(x, y_true, verbose=True)\n",
    "\n",
    "# Save\n",
    "model.save_model(FN_WEIGHT)"
   ]
  },
  {
   "cell_type": "markdown",
   "metadata": {},
   "source": [
    "# Train NMF Labeller"
   ]
  },
  {
   "cell_type": "code",
   "execution_count": 27,
   "metadata": {},
   "outputs": [
    {
     "name": "stdout",
     "output_type": "stream",
     "text": [
      "Recon error: 12.689146348762879, Raw matrix norm: 1382.1798881565035\n"
     ]
    }
   ],
   "source": [
    "# Create model\n",
    "model = NMF_Label(n_components=78)\n",
    "\n",
    "# Build\n",
    "universe_desc = set(chain.from_iterable(df.DESC.str.split().values))\n",
    "universe_label = set(df.LABEL.values)\n",
    "model.build(universe_x=universe_desc, universe_y=universe_label)\n",
    "\n",
    "# Compile\n",
    "model.compile()\n",
    "\n",
    "# Fit\n",
    "x = df.DESC.str.split().values\n",
    "y_true = df.LABEL.values\n",
    "model.fit(x, y_true, verbose=True)\n",
    "\n",
    "# Save\n",
    "model.save_model(FN_WEIGHT)"
   ]
  },
  {
   "cell_type": "markdown",
   "metadata": {},
   "source": [
    "# Validate"
   ]
  },
  {
   "cell_type": "code",
   "execution_count": 28,
   "metadata": {},
   "outputs": [
    {
     "data": {
      "text/plain": [
       "0.7798863514527715"
      ]
     },
     "execution_count": 28,
     "metadata": {},
     "output_type": "execute_result"
    }
   ],
   "source": [
    "# Load\n",
    "model.load_model(FN_WEIGHT)\n",
    "\n",
    "# Inference\n",
    "y_pred = model.predict(x)\n",
    "\n",
    "# Evaluate\n",
    "perc_match = (y_pred == y_true).sum() / N\n",
    "perc_match"
   ]
  },
  {
   "cell_type": "code",
   "execution_count": 26,
   "metadata": {},
   "outputs": [],
   "source": [
    "label_pred = np.asarray([ map_l2d[x] for x in y_pred ])\n",
    "\n",
    "df_result = df.copy()\n",
    "df_result['LABEL_DESC_INFER'] = label_pred"
   ]
  },
  {
   "cell_type": "code",
   "execution_count": 14,
   "metadata": {},
   "outputs": [],
   "source": [
    "# pd.set_option('display.max_rows', 500)\n",
    "# pd.set_option('display.max_columns', 500)\n",
    "# pd.set_option('display.width', 1000)\n",
    "# pd.set_option('display.max_colwidth', -1)\n",
    "\n",
    "# df_result[df_result['LABEL_DESC'] != df_result['LABEL_DESC_INFER']]"
   ]
  }
 ],
 "metadata": {
  "kernelspec": {
   "display_name": "Python 3",
   "language": "python",
   "name": "python3"
  },
  "language_info": {
   "codemirror_mode": {
    "name": "ipython",
    "version": 3
   },
   "file_extension": ".py",
   "mimetype": "text/x-python",
   "name": "python",
   "nbconvert_exporter": "python",
   "pygments_lexer": "ipython3",
   "version": "3.7.3"
  },
  "toc": {
   "base_numbering": 1,
   "nav_menu": {},
   "number_sections": true,
   "sideBar": true,
   "skip_h1_title": false,
   "title_cell": "Table of Contents",
   "title_sidebar": "Contents",
   "toc_cell": false,
   "toc_position": {},
   "toc_section_display": true,
   "toc_window_display": true
  }
 },
 "nbformat": 4,
 "nbformat_minor": 2
}
