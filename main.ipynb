{
 "cells": [
  {
   "cell_type": "code",
   "execution_count": 1,
   "metadata": {},
   "outputs": [],
   "source": [
    "import numpy as np\n",
    "import pandas as pd\n",
    "import seaborn as sns\n",
    "from itertools import chain\n",
    "from model.SVD_Label import SVD_Label\n",
    "from model.NMF_Label import NMF_Label\n",
    "from model.WE_Label import WE_Label"
   ]
  },
  {
   "cell_type": "markdown",
   "metadata": {},
   "source": [
    "# Setting "
   ]
  },
  {
   "cell_type": "code",
   "execution_count": 2,
   "metadata": {},
   "outputs": [],
   "source": [
    "FD_DATA = './data/'\n",
    "FD_WEIGHT = './weight/'\n",
    "FN_DATA = FD_DATA + 'data_sample.csv'\n",
    "# FN_WEIGHT = FD_WEIGHT + 'weight_SVD.p'\n",
    "# FN_WEIGHT = FD_WEIGHT + 'weight_NMF.p'\n",
    "FN_WEIGHT = FD_WEIGHT + 'weight_WE.p'"
   ]
  },
  {
   "cell_type": "markdown",
   "metadata": {},
   "source": [
    "# Load Data"
   ]
  },
  {
   "cell_type": "code",
   "execution_count": 3,
   "metadata": {},
   "outputs": [
    {
     "data": {
      "text/plain": [
       "(Index(['DESC', 'LABEL', 'LABEL_DESC'], dtype='object'), 9327)"
      ]
     },
     "execution_count": 3,
     "metadata": {},
     "output_type": "execute_result"
    }
   ],
   "source": [
    "df = pd.read_csv(FN_DATA, encoding='latin-1')\n",
    "N = df.shape[0]\n",
    "\n",
    "# Map label to label description \n",
    "map_l2d = dict(df.groupby(by='LABEL')['LABEL_DESC'].first().reset_index().values.tolist())\n",
    "\n",
    "df.columns, N"
   ]
  },
  {
   "cell_type": "markdown",
   "metadata": {},
   "source": [
    "# Prepare data"
   ]
  },
  {
   "cell_type": "code",
   "execution_count": 4,
   "metadata": {},
   "outputs": [],
   "source": [
    "universe_desc = set(chain.from_iterable(df.DESC.str.split().values))\n",
    "universe_label = set(df.LABEL.values)\n",
    "\n",
    "x = df.DESC.str.split().values\n",
    "y = df.LABEL.values"
   ]
  },
  {
   "cell_type": "markdown",
   "metadata": {},
   "source": [
    "# Train SVD Labeller"
   ]
  },
  {
   "cell_type": "code",
   "execution_count": 8,
   "metadata": {},
   "outputs": [
    {
     "name": "stdout",
     "output_type": "stream",
     "text": [
      "Explained variance: 0.9997266241547151\n",
      "train acc 0.8007933955183875\n"
     ]
    },
    {
     "data": {
      "image/png": "[encoded data removed]",
      "text/plain": [
       "<Figure size 432x288 with 1 Axes>"
      ]
     },
     "metadata": {
      "needs_background": "light"
     },
     "output_type": "display_data"
    }
   ],
   "source": [
    "param_optim = {'n_components': 23}\n",
    "\n",
    "# Create model\n",
    "model = SVD_Label(**param_optim)\n",
    "\n",
    "# Build\n",
    "model.build(universe_x=universe_desc, universe_y=universe_label)\n",
    "\n",
    "# Compile\n",
    "model.compile()\n",
    "\n",
    "# Fit\n",
    "model.fit(x, y, verbose=True)\n",
    "\n",
    "# Save\n",
    "model.save_model(FN_WEIGHT)\n",
    "\n",
    "# Load\n",
    "model.load_model(FN_WEIGHT)\n",
    "\n",
    "# Inference\n",
    "y_pred = model.predict(x)\n",
    "\n",
    "# Evaluate\n",
    "perc_match = (y_pred == y).sum() / y.shape[0]\n",
    "print('train acc {}'.format(perc_match))\n"
   ]
  },
  {
   "cell_type": "markdown",
   "metadata": {},
   "source": [
    "# Train NMF Labeller"
   ]
  },
  {
   "cell_type": "code",
   "execution_count": 10,
   "metadata": {},
   "outputs": [
    {
     "name": "stdout",
     "output_type": "stream",
     "text": [
      "Recon error: 14.343742026091002, Raw matrix norm: 1382.1798881565035\n",
      "train acc 0.778278117293878\n"
     ]
    }
   ],
   "source": [
    "param_optim = {'n_components': 70}\n",
    "\n",
    "# Create model\n",
    "model = NMF_Label(**param_optim)\n",
    "\n",
    "# Build\n",
    "model.build(universe_x=universe_desc, universe_y=universe_label)\n",
    "\n",
    "# Compile\n",
    "model.compile()\n",
    "\n",
    "# Fit\n",
    "model.fit(x, y, verbose=True)\n",
    "\n",
    "# Save\n",
    "model.save_model(FN_WEIGHT)\n",
    "\n",
    "# Load\n",
    "model.load_model(FN_WEIGHT)\n",
    "\n",
    "# Inference\n",
    "y_pred = model.predict(x)\n",
    "\n",
    "# Evaluate\n",
    "perc_match = (y_pred == y).sum() / y.shape[0]\n",
    "print('train acc {}'.format(perc_match))\n"
   ]
  },
  {
   "cell_type": "markdown",
   "metadata": {},
   "source": [
    "# Train WE Labeller"
   ]
  },
  {
   "cell_type": "code",
   "execution_count": 5,
   "metadata": {},
   "outputs": [
    {
     "name": "stdout",
     "output_type": "stream",
     "text": [
      "WARNING:tensorflow:From /home/kumamon/.conda/envs/dev/lib/python3.7/site-packages/tensorflow/python/framework/op_def_library.py:263: colocate_with (from tensorflow.python.framework.ops) is deprecated and will be removed in a future version.\n",
      "Instructions for updating:\n",
      "Colocations handled automatically by placer.\n",
      "WARNING:tensorflow:From /home/kumamon/.conda/envs/dev/lib/python3.7/site-packages/tensorflow/python/ops/array_grad.py:425: to_int32 (from tensorflow.python.ops.math_ops) is deprecated and will be removed in a future version.\n",
      "Instructions for updating:\n",
      "Use tf.cast instead.\n",
      "Initialized\n",
      "Save BEST model at step 830 (0.531)..........] - ETA: 9:05 - loss: 2.2662 - val loss: 0.9275 - accuracy: 0.0312 - val accuracy: 0.0730  WARNING:tensorflow:From /home/kumamon/.conda/envs/dev/lib/python3.7/site-packages/tensorflow/python/training/saver.py:966: remove_checkpoint (from tensorflow.python.training.checkpoint_management) is deprecated and will be removed in a future version.\n",
      "Instructions for updating:\n",
      "Use standard file APIs to delete files with this prefix.\n",
      " 36800/100000 [==========>...................] - ETA: 4:53 - loss: 0.2203 - val loss: 0.6774 - accuracy: 0.8125 - val accuracy: 0.8584\n",
      "Plateau reached.\n",
      "WARNING:tensorflow:From /home/kumamon/.conda/envs/dev/lib/python3.7/site-packages/tensorflow/python/training/saver.py:1266: checkpoint_exists (from tensorflow.python.training.checkpoint_management) is deprecated and will be removed in a future version.\n",
      "Instructions for updating:\n",
      "Use standard file APIs to check for files with this prefix.\n",
      "INFO:tensorflow:Restoring parameters from ./ckpt/WE_Label-6290\n",
      "\n",
      "Reduce lr to 0.0005000000237487257\n",
      " 58400/100000 [================>.............] - ETA: 3:11 - loss: 0.0555 - val loss: 0.6749 - accuracy: 1.0000 - val accuracy: 0.8648\n",
      "Plateau reached.\n",
      "INFO:tensorflow:Restoring parameters from ./ckpt/WE_Label-6290\n",
      "\n",
      "Reduce lr to 0.0002500000118743628\n",
      " 74000/100000 [=====================>........] - ETA: 1:59 - loss: 0.0593 - val loss: 0.9219 - accuracy: 0.9688 - val accuracy: 0.8680\n",
      "Plateau reached.\n",
      "INFO:tensorflow:Restoring parameters from ./ckpt/WE_Label-6290\n",
      "\n",
      "Reduce lr to 0.0001250000059371814\n",
      " 94600/100000 [===========================>..] - ETA: 24s - loss: 0.2495 - val loss: 0.5434 - accuracy: 0.9375 - val accuracy: 0.8637\n",
      "Plateau reached.\n",
      "INFO:tensorflow:Restoring parameters from ./ckpt/WE_Label-74090\n",
      "\n",
      "Reduce lr to 6.25000029685907e-05\n",
      "100000/100000 [==============================] - 458s 5ms/step - loss: 0.2049 - val loss: 0.8868 - accuracy: 0.9375 - val accuracy: 0.8616\n",
      "INFO:tensorflow:Restoring parameters from ./ckpt/WE_Label-95480\n",
      "train acc 0.8828133376219578\n"
     ]
    }
   ],
   "source": [
    "param_optim = {'embedding_size': 30,\n",
    "               'num_sampled': 5}\n",
    "\n",
    "# Create model\n",
    "model = WE_Label(vocabulary_size=len(universe_desc),\n",
    "                 label_size=len(universe_label),\n",
    "                 embedding_size=param_optim['embedding_size'])\n",
    "\n",
    "# Build\n",
    "model.build(universe_x=universe_desc, universe_y=universe_label)\n",
    "\n",
    "# Compile\n",
    "model.compile(num_sampled=param_optim['num_sampled'])     # num_samples:   no. of negative samples in tf.nn.nce_loss\n",
    "\n",
    "\n",
    "model.fit(x, y, verbose=True)\n",
    "\n",
    "# Save\n",
    "model.save_model(FN_WEIGHT)\n",
    "\n",
    "# Load\n",
    "model.load_model(FN_WEIGHT)\n",
    "\n",
    "# Inference\n",
    "y_pred = model.predict(x)\n",
    "\n",
    "# Evaluate\n",
    "perc_match = (y_pred == y).sum() / y.shape[0]\n",
    "print('train acc {}'.format(perc_match))\n",
    "        "
   ]
  },
  {
   "cell_type": "code",
   "execution_count": null,
   "metadata": {},
   "outputs": [],
   "source": []
  }
 ],
 "metadata": {
  "kernelspec": {
   "display_name": "Python 3",
   "language": "python",
   "name": "python3"
  },
  "language_info": {
   "codemirror_mode": {
    "name": "ipython",
    "version": 3
   },
   "file_extension": ".py",
   "mimetype": "text/x-python",
   "name": "python",
   "nbconvert_exporter": "python",
   "pygments_lexer": "ipython3",
   "version": "3.7.3"
  },
  "toc": {
   "base_numbering": 1,
   "nav_menu": {},
   "number_sections": true,
   "sideBar": true,
   "skip_h1_title": false,
   "title_cell": "Table of Contents",
   "title_sidebar": "Contents",
   "toc_cell": false,
   "toc_position": {},
   "toc_section_display": true,
   "toc_window_display": true
  }
 },
 "nbformat": 4,
 "nbformat_minor": 2
}
