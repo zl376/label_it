{
 "cells": [
  {
   "cell_type": "code",
   "execution_count": 1,
   "metadata": {},
   "outputs": [],
   "source": [
    "import numpy as np\n",
    "import pandas as pd\n",
    "import seaborn as sns\n",
    "from itertools import chain\n",
    "from model.SVD_Label import SVD_Label\n",
    "from model.NMF_Label import NMF_Label\n",
    "from model.WE_Label import WE_Label"
   ]
  },
  {
   "cell_type": "markdown",
   "metadata": {},
   "source": [
    "# Setting "
   ]
  },
  {
   "cell_type": "code",
   "execution_count": 2,
   "metadata": {},
   "outputs": [],
   "source": [
    "FD_DATA = './data/'\n",
    "FD_WEIGHT = './weight_dbg/'\n",
    "FN_DATA = FD_DATA + 'data_sample.csv'\n",
    "# FN_WEIGHT = FD_WEIGHT + 'weight_SVD.p'\n",
    "# FN_WEIGHT = FD_WEIGHT + 'weight_NMF.p'\n",
    "# FN_WEIGHT = FD_WEIGHT + 'weight_WE.p'"
   ]
  },
  {
   "cell_type": "markdown",
   "metadata": {},
   "source": [
    "# Load Data"
   ]
  },
  {
   "cell_type": "code",
   "execution_count": 3,
   "metadata": {},
   "outputs": [
    {
     "data": {
      "text/plain": [
       "(Index(['DESC', 'LABEL', 'LABEL_DESC'], dtype='object'), 8095)"
      ]
     },
     "execution_count": 3,
     "metadata": {},
     "output_type": "execute_result"
    }
   ],
   "source": [
    "df = pd.read_csv(FN_DATA, encoding='latin-1')\n",
    "N = df.shape[0]\n",
    "\n",
    "# Map label to label description \n",
    "map_l2d = dict(df.groupby(by='LABEL')['LABEL_DESC'].first().reset_index().values.tolist())\n",
    "\n",
    "df.columns, N"
   ]
  },
  {
   "cell_type": "markdown",
   "metadata": {},
   "source": [
    "# Tune hyper-parameter "
   ]
  },
  {
   "cell_type": "code",
   "execution_count": 5,
   "metadata": {},
   "outputs": [],
   "source": [
    "universe_desc = set(chain.from_iterable(df.DESC.str.split().values))\n",
    "universe_label = set(df.LABEL.values)"
   ]
  },
  {
   "cell_type": "code",
   "execution_count": 6,
   "metadata": {},
   "outputs": [],
   "source": [
    "# Dataset\n",
    "x = df.DESC.str.split().values\n",
    "y = df.LABEL.values\n",
    "\n",
    "# Shuffle\n",
    "idx = np.arange(N)\n",
    "np.random.seed(42)\n",
    "np.random.shuffle(idx)\n",
    "x, y = x[idx], y[idx]\n",
    "\n",
    "x_train, y_train = x[:-np.floor(N*0.1).astype(np.int)], y[:-np.floor(N*0.1).astype(np.int)]\n",
    "x_test, y_test = x[-np.floor(N*0.1).astype(np.int):], y[-np.floor(N*0.1).astype(np.int):]"
   ]
  },
  {
   "cell_type": "markdown",
   "metadata": {},
   "source": [
    "# Train SVD Labeller"
   ]
  },
  {
   "cell_type": "code",
   "execution_count": 7,
   "metadata": {},
   "outputs": [
    {
     "name": "stderr",
     "output_type": "stream",
     "text": [
      "/home/kumamon/.conda/envs/dev/lib/python3.7/site-packages/scipy/sparse/base.py:597: RuntimeWarning: invalid value encountered in true_divide\n",
      "  return np.true_divide(self.todense(), other)\n"
     ]
    },
    {
     "name": "stdout",
     "output_type": "stream",
     "text": [
      "Explained variance: 0.4057297281518595\n",
      "n 10, acc 0.24598269468479605\n",
      "Explained variance: 0.6904878831406089\n",
      "n 30, acc 0.43510506798516685\n",
      "Explained variance: 0.8087070898860065\n",
      "n 50, acc 0.5129789864029666\n",
      "Explained variance: 0.8732766646498822\n",
      "n 70, acc 0.5908529048207664\n",
      "Explained variance: 0.9152845456966756\n",
      "n 90, acc 0.6378244746600742\n",
      "Explained variance: 0.943092327288497\n",
      "n 110, acc 0.6761433868974042\n",
      "Explained variance: 0.9610490502496911\n",
      "n 130, acc 0.7082818294190358\n",
      "Explained variance: 0.9734016201596487\n",
      "n 150, acc 0.7169344870210136\n",
      "Explained variance: 0.9819158573202076\n",
      "n 170, acc 0.7255871446229913\n",
      "Explained variance: 0.9879377830765168\n",
      "n 190, acc 0.7317676143386898\n",
      "Explained variance: 0.9920950378337278\n",
      "n 210, acc 0.7342398022249691\n",
      "Explained variance: 0.9949360644264965\n",
      "n 230, acc 0.7404202719406675\n",
      "Explained variance: 0.996882776932257\n",
      "n 250, acc 0.7441285537700866\n",
      "Explained variance: 0.9982010546571184\n",
      "n 270, acc 0.7466007416563659\n",
      "Explained variance: 0.9991022761450823\n",
      "n 290, acc 0.7503090234857849\n",
      "Explained variance: 0.9996221101864005\n",
      "n 310, acc 0.7515451174289246\n",
      "Explained variance: 0.9998857945134039\n",
      "n 330, acc 0.754017305315204\n",
      "Explained variance: 0.9999884724556689\n",
      "n 350, acc 0.754017305315204\n",
      "Explained variance: 1.0\n",
      "n 370, acc 0.754017305315204\n",
      "Explained variance: 0.9999999999999991\n",
      "n 390, acc 0.754017305315204\n"
     ]
    },
    {
     "data": {
      "image/png": "[encoded data removed]",
      "text/plain": [
       "<Figure size 432x288 with 1 Axes>"
      ]
     },
     "metadata": {
      "needs_background": "light"
     },
     "output_type": "display_data"
    }
   ],
   "source": [
    "df_perf = pd.DataFrame()\n",
    "\n",
    "for n_components in range(10, 400, 20):\n",
    "    \n",
    "        FN_WEIGHT = FD_WEIGHT + 'weight_SVD_n{0}.p'.format(n_components)\n",
    "\n",
    "        # Create model\n",
    "        model = SVD_Label(n_components=n_components)\n",
    "\n",
    "        # Build\n",
    "        model.build(universe_x=universe_desc, universe_y=universe_label)\n",
    "\n",
    "        # Compile\n",
    "        model.compile()\n",
    "\n",
    "        # Fit\n",
    "        model.fit(x_train, y_train, verbose=True)\n",
    "\n",
    "        # Save\n",
    "        model.save_model(FN_WEIGHT)\n",
    "        \n",
    "        # Load\n",
    "        model.load_model(FN_WEIGHT)\n",
    "\n",
    "        # Inference\n",
    "        y_pred = model.predict(x_test)\n",
    "\n",
    "        # Evaluate\n",
    "        perc_match = (y_pred == y_test).sum() / y_test.shape[0]\n",
    "        print('n {0}, acc {1}'.format(n_components, perc_match))\n",
    "        \n",
    "        df_perf = df_perf.append(pd.DataFrame({'n_components': [n_components],\n",
    "                                               'accuracy': [perc_match]}))\n",
    "        \n",
    "        \n",
    "        "
   ]
  },
  {
   "cell_type": "code",
   "execution_count": 8,
   "metadata": {},
   "outputs": [
    {
     "data": {
      "text/plain": [
       "<matplotlib.axes._subplots.AxesSubplot at 0x7f4e7b656470>"
      ]
     },
     "execution_count": 8,
     "metadata": {},
     "output_type": "execute_result"
    },
    {
     "data": {
      "image/png": "[encoded data removed]",
      "text/plain": [
       "<Figure size 432x288 with 1 Axes>"
      ]
     },
     "metadata": {
      "needs_background": "light"
     },
     "output_type": "display_data"
    }
   ],
   "source": [
    "sns.lineplot(x='n_components', y='accuracy', data=df_perf)"
   ]
  },
  {
   "cell_type": "code",
   "execution_count": 9,
   "metadata": {},
   "outputs": [],
   "source": [
    "param_optim = {'n_components': 300}"
   ]
  },
  {
   "cell_type": "markdown",
   "metadata": {},
   "source": [
    "# Train NMF Labeller"
   ]
  },
  {
   "cell_type": "code",
   "execution_count": null,
   "metadata": {},
   "outputs": [],
   "source": [
    "df_perf = pd.DataFrame()\n",
    "\n",
    "for n_components in range(10, 356, 20):\n",
    "    \n",
    "        FN_WEIGHT = FD_WEIGHT + 'weight_NMF_n{0}.p'.format(n_components)\n",
    "        \n",
    "        # Create model\n",
    "        model = NMF_Label(n_components=n_components)\n",
    "\n",
    "        # Build\n",
    "        model.build(universe_x=universe_desc, universe_y=universe_label)\n",
    "\n",
    "        # Compile\n",
    "        model.compile()\n",
    "\n",
    "        # Fit\n",
    "        model.fit(x_train, y_train, verbose=True)\n",
    "\n",
    "        # Save\n",
    "        model.save_model(FN_WEIGHT)\n",
    "        \n",
    "        # Load\n",
    "        model.load_model(FN_WEIGHT)\n",
    "\n",
    "        # Inference\n",
    "        y_pred = model.predict(x_test)\n",
    "\n",
    "        # Evaluate\n",
    "        perc_match = (y_pred == y_test).sum() / y_test.shape[0]\n",
    "        print('n {0}, acc {1}'.format(n_components, perc_match))\n",
    "        \n",
    "        df_perf = df_perf.append(pd.DataFrame({'n_components': [n_components],\n",
    "                                               'accuracy': [perc_match]}))\n",
    "        \n",
    "        \n",
    "        "
   ]
  },
  {
   "cell_type": "code",
   "execution_count": 12,
   "metadata": {
    "scrolled": true
   },
   "outputs": [
    {
     "data": {
      "text/plain": [
       "<matplotlib.axes._subplots.AxesSubplot at 0x7f4e7b564fd0>"
      ]
     },
     "execution_count": 12,
     "metadata": {},
     "output_type": "execute_result"
    },
    {
     "data": {
      "image/png": "[encoded data removed]",
      "text/plain": [
       "<Figure size 432x288 with 1 Axes>"
      ]
     },
     "metadata": {
      "needs_background": "light"
     },
     "output_type": "display_data"
    }
   ],
   "source": [
    "sns.lineplot(x='n_components', y='accuracy', data=df_perf)"
   ]
  },
  {
   "cell_type": "code",
   "execution_count": 13,
   "metadata": {},
   "outputs": [],
   "source": [
    "param_optim = {'n_components': 300}"
   ]
  },
  {
   "cell_type": "markdown",
   "metadata": {},
   "source": [
    "# Train WE Labeller"
   ]
  },
  {
   "cell_type": "code",
   "execution_count": 17,
   "metadata": {
    "scrolled": false
   },
   "outputs": [
    {
     "name": "stdout",
     "output_type": "stream",
     "text": [
      "Initialized\n",
      " 45400/100000 [============>.................] - ETA: 3:59 - loss: 0.5710 - val loss: 2.9195 - accuracy: 0.9375 - val accuracy: 0.7500\n",
      "Plateau reached.\n",
      "INFO:tensorflow:Restoring parameters from ./ckpt/WE_Label-14020\n",
      "\n",
      "Reduce lr to 0.0005000000237487257\n",
      " 78500/100000 [======================>.......] - ETA: 1:33 - loss: 0.7265 - val loss: 3.0012 - accuracy: 1.0000 - val accuracy: 0.7431\n",
      "Plateau reached.\n",
      "INFO:tensorflow:Restoring parameters from ./ckpt/WE_Label-14020\n",
      "\n",
      "Reduce lr to 0.0002500000118743628\n",
      "100000/100000 [==============================] - 433s 4ms/step - loss: 0.9611 - val loss: 2.6706 - accuracy: 0.8750 - val accuracy: 0.7514\n",
      "INFO:tensorflow:Restoring parameters from ./ckpt/WE_Label-14020\n",
      "emb 10, nce 100, acc 0.7058096415327565\n",
      "Initialized\n",
      " 37300/100000 [==========>...................] - ETA: 4:37 - loss: 0.6539 - val loss: 2.5736 - accuracy: 0.9688 - val accuracy: 0.7527\n",
      "Plateau reached.\n",
      "INFO:tensorflow:Restoring parameters from ./ckpt/WE_Label-13960\n",
      "\n",
      "Reduce lr to 0.0005000000237487257\n",
      " 54600/100000 [===============>..............] - ETA: 3:18 - loss: 0.7489 - val loss: 2.4089 - accuracy: 0.9688 - val accuracy: 0.7610\n",
      "Plateau reached.\n",
      "INFO:tensorflow:Restoring parameters from ./ckpt/WE_Label-13960\n",
      "\n",
      "Reduce lr to 0.0002500000118743628\n",
      " 71100/100000 [====================>.........] - ETA: 2:05 - loss: 0.5670 - val loss: 2.3608 - accuracy: 1.0000 - val accuracy: 0.7541\n",
      "Plateau reached.\n",
      "INFO:tensorflow:Restoring parameters from ./ckpt/WE_Label-13960\n",
      "\n",
      "Reduce lr to 0.0001250000059371814\n",
      " 93600/100000 [===========================>..] - ETA: 27s - loss: 0.7269 - val loss: 2.3912 - accuracy: 0.8750 - val accuracy: 0.7541\n",
      "Plateau reached.\n",
      "INFO:tensorflow:Restoring parameters from ./ckpt/WE_Label-13960\n",
      "\n",
      "Reduce lr to 6.25000029685907e-05\n",
      "100000/100000 [==============================] - 433s 4ms/step - loss: 0.7114 - val loss: 2.2043 - accuracy: 0.9688 - val accuracy: 0.7569\n",
      "INFO:tensorflow:Restoring parameters from ./ckpt/WE_Label-13960\n",
      "emb 20, nce 100, acc 0.7750309023485785\n",
      "Initialized\n",
      " 37100/100000 [==========>...................] - ETA: 4:41 - loss: 0.4712 - val loss: 2.3901 - accuracy: 0.9688 - val accuracy: 0.7761\n",
      "Plateau reached.\n",
      "INFO:tensorflow:Restoring parameters from ./ckpt/WE_Label-9560\n",
      "\n",
      "Reduce lr to 0.0005000000237487257\n",
      " 55000/100000 [===============>..............] - ETA: 3:18 - loss: 0.6168 - val loss: 2.2479 - accuracy: 0.9375 - val accuracy: 0.7802\n",
      "Plateau reached.\n",
      "INFO:tensorflow:Restoring parameters from ./ckpt/WE_Label-9560\n",
      "\n",
      "Reduce lr to 0.0002500000118743628\n",
      " 72800/100000 [====================>.........] - ETA: 1:59 - loss: 0.9663 - val loss: 2.3290 - accuracy: 1.0000 - val accuracy: 0.7747\n",
      "Plateau reached.\n",
      "INFO:tensorflow:Restoring parameters from ./ckpt/WE_Label-9560\n",
      "\n",
      "Reduce lr to 0.0001250000059371814\n",
      " 93900/100000 [===========================>..] - ETA: 26s - loss: 0.6212 - val loss: 2.4239 - accuracy: 1.0000 - val accuracy: 0.7830\n",
      "Plateau reached.\n",
      "INFO:tensorflow:Restoring parameters from ./ckpt/WE_Label-9560\n",
      "\n",
      "Reduce lr to 6.25000029685907e-05\n",
      "100000/100000 [==============================] - 436s 4ms/step - loss: 0.4964 - val loss: 2.1364 - accuracy: 0.9688 - val accuracy: 0.7747\n",
      "INFO:tensorflow:Restoring parameters from ./ckpt/WE_Label-9560\n",
      "emb 30, nce 100, acc 0.7873918417799752\n",
      "Initialized\n",
      " 23100/100000 [=====>........................] - ETA: 5:45 - loss: 0.5100 - val loss: 2.0959 - accuracy: 0.9062 - val accuracy: 0.7747\n",
      "Plateau reached.\n",
      "INFO:tensorflow:Restoring parameters from ./ckpt/WE_Label-6870\n",
      "\n",
      "Reduce lr to 0.0005000000237487257\n",
      " 43400/100000 [============>.................] - ETA: 4:09 - loss: 1.0313 - val loss: 2.2537 - accuracy: 1.0000 - val accuracy: 0.7679\n",
      "Plateau reached.\n",
      "INFO:tensorflow:Restoring parameters from ./ckpt/WE_Label-6870\n",
      "\n",
      "Reduce lr to 0.0002500000118743628\n",
      " 60100/100000 [=================>............] - ETA: 2:54 - loss: 0.7167 - val loss: 2.2619 - accuracy: 0.9688 - val accuracy: 0.7624\n",
      "Plateau reached.\n",
      "INFO:tensorflow:Restoring parameters from ./ckpt/WE_Label-6870\n",
      "\n",
      "Reduce lr to 0.0001250000059371814\n",
      " 83500/100000 [========================>.....] - ETA: 1:11 - loss: 0.6790 - val loss: 2.4494 - accuracy: 1.0000 - val accuracy: 0.7692\n",
      "Plateau reached.\n",
      "INFO:tensorflow:Restoring parameters from ./ckpt/WE_Label-60340\n",
      "\n",
      "Reduce lr to 6.25000029685907e-05\n",
      "100000/100000 [==============================] - 435s 4ms/step - loss: 0.7040 - val loss: 2.3391 - accuracy: 1.0000 - val accuracy: 0.7610\n",
      "INFO:tensorflow:Restoring parameters from ./ckpt/WE_Label-83530\n",
      "emb 40, nce 100, acc 0.754017305315204\n",
      "Initialized\n",
      " 31400/100000 [========>.....................] - ETA: 5:04 - loss: 0.4273 - val loss: 2.0388 - accuracy: 1.0000 - val accuracy: 0.7926\n",
      "Plateau reached.\n",
      "INFO:tensorflow:Restoring parameters from ./ckpt/WE_Label-7610\n",
      "\n",
      "Reduce lr to 0.0005000000237487257\n",
      " 59200/100000 [================>.............] - ETA: 2:58 - loss: 0.5344 - val loss: 2.0370 - accuracy: 0.9375 - val accuracy: 0.7940\n",
      "Plateau reached.\n",
      "INFO:tensorflow:Restoring parameters from ./ckpt/WE_Label-33130\n",
      "\n",
      "Reduce lr to 0.0002500000118743628\n",
      " 73100/100000 [====================>.........] - ETA: 1:57 - loss: 0.7580 - val loss: 2.0969 - accuracy: 0.9688 - val accuracy: 0.7981\n",
      "Plateau reached.\n",
      "INFO:tensorflow:Restoring parameters from ./ckpt/WE_Label-33130\n",
      "\n",
      "Reduce lr to 0.0001250000059371814\n",
      " 87900/100000 [=========================>....] - ETA: 52s - loss: 0.8438 - val loss: 2.0934 - accuracy: 1.0000 - val accuracy: 0.7967\n",
      "Plateau reached.\n",
      "INFO:tensorflow:Restoring parameters from ./ckpt/WE_Label-73610\n",
      "\n",
      "Reduce lr to 6.25000029685907e-05\n",
      "100000/100000 [==============================] - 433s 4ms/step - loss: 0.6408 - val loss: 2.0663 - accuracy: 0.9688 - val accuracy: 0.7940\n",
      "INFO:tensorflow:Restoring parameters from ./ckpt/WE_Label-73610\n",
      "emb 50, nce 100, acc 0.7873918417799752\n",
      "Initialized\n",
      " 26500/100000 [======>.......................] - ETA: 5:33 - loss: 0.2432 - val loss: 2.2817 - accuracy: 1.0000 - val accuracy: 0.7665\n",
      "Plateau reached.\n",
      "INFO:tensorflow:Restoring parameters from ./ckpt/WE_Label-5990\n",
      "\n",
      "Reduce lr to 0.0005000000237487257\n",
      " 46900/100000 [=============>................] - ETA: 3:55 - loss: 0.6746 - val loss: 2.1127 - accuracy: 0.9375 - val accuracy: 0.7651\n",
      "Plateau reached.\n",
      "INFO:tensorflow:Restoring parameters from ./ckpt/WE_Label-5990\n",
      "\n",
      "Reduce lr to 0.0002500000118743628\n",
      " 65100/100000 [==================>...........] - ETA: 2:33 - loss: 0.8892 - val loss: 2.1059 - accuracy: 1.0000 - val accuracy: 0.7706\n",
      "Plateau reached.\n",
      "INFO:tensorflow:Restoring parameters from ./ckpt/WE_Label-5990\n",
      "\n",
      "Reduce lr to 0.0001250000059371814\n",
      " 81800/100000 [=======================>......] - ETA: 1:19 - loss: 0.7584 - val loss: 2.3599 - accuracy: 1.0000 - val accuracy: 0.7720\n",
      "Plateau reached.\n",
      "INFO:tensorflow:Restoring parameters from ./ckpt/WE_Label-5990\n",
      "\n",
      "Reduce lr to 6.25000029685907e-05\n",
      "100000/100000 [==============================] - 438s 4ms/step - loss: 0.8070 - val loss: 2.2069 - accuracy: 1.0000 - val accuracy: 0.7747\n",
      "INFO:tensorflow:Restoring parameters from ./ckpt/WE_Label-5990\n",
      "emb 60, nce 100, acc 0.7787391841779975\n",
      "Initialized\n",
      " 22400/100000 [=====>........................] - ETA: 5:50 - loss: 0.7272 - val loss: 2.3065 - accuracy: 0.9688 - val accuracy: 0.7651\n",
      "Plateau reached.\n",
      "INFO:tensorflow:Restoring parameters from ./ckpt/WE_Label-5760\n",
      "\n",
      "Reduce lr to 0.0005000000237487257\n",
      " 46700/100000 [=============>................] - ETA: 4:14 - loss: 0.7578 - val loss: 2.4203 - accuracy: 1.0000 - val accuracy: 0.7734\n",
      "Plateau reached.\n",
      "INFO:tensorflow:Restoring parameters from ./ckpt/WE_Label-5760\n",
      "\n",
      "Reduce lr to 0.0002500000118743628\n",
      " 67700/100000 [===================>..........] - ETA: 2:36 - loss: 0.8117 - val loss: 2.4079 - accuracy: 1.0000 - val accuracy: 0.7665\n",
      "Plateau reached.\n",
      "INFO:tensorflow:Restoring parameters from ./ckpt/WE_Label-5760\n",
      "\n",
      "Reduce lr to 0.0001250000059371814\n",
      " 86600/100000 [========================>.....] - ETA: 1:05 - loss: 1.0081 - val loss: 2.4210 - accuracy: 1.0000 - val accuracy: 0.7692\n",
      "Plateau reached.\n",
      "INFO:tensorflow:Restoring parameters from ./ckpt/WE_Label-5760\n",
      "\n",
      "Reduce lr to 6.25000029685907e-05\n",
      "100000/100000 [==============================] - 489s 5ms/step - loss: 0.4762 - val loss: 2.2536 - accuracy: 1.0000 - val accuracy: 0.7734\n",
      "INFO:tensorflow:Restoring parameters from ./ckpt/WE_Label-5760\n",
      "emb 70, nce 100, acc 0.7503090234857849\n"
     ]
    }
   ],
   "source": [
    "#df_perf = pd.DataFrame()\n",
    "\n",
    "for embedding_size in (10, 20, 30, 40, 50, 60, 70):\n",
    "    for num_sampled in (100,):#5, 10, 20, 30, 50):\n",
    "    \n",
    "        FN_WEIGHT = FD_WEIGHT + 'weight_WE_emb{0}_nce{1}.p'.format(embedding_size, num_sampled)\n",
    "\n",
    "        # Create model\n",
    "        model = WE_Label(vocabulary_size=len(universe_desc),\n",
    "                         label_size=len(universe_label),\n",
    "                         embedding_size=embedding_size)\n",
    "\n",
    "        # Build\n",
    "        model.build(universe_x=universe_desc, universe_y=universe_label)\n",
    "\n",
    "        # Compile\n",
    "        model.compile(num_sampled=num_sampled)     # num_samples:   no. of negative samples in tf.nn.nce_loss\n",
    "\n",
    "\n",
    "        model.fit(x_train, y_train, verbose=True)\n",
    "\n",
    "        # Save\n",
    "        model.save_model(FN_WEIGHT)\n",
    "\n",
    "        # Load\n",
    "        model.load_model(FN_WEIGHT)\n",
    "\n",
    "        # Inference\n",
    "        y_pred = model.predict(x_test)\n",
    "\n",
    "        # Evaluate\n",
    "        perc_match = (y_pred == y_test).sum() / y_test.shape[0]\n",
    "        print('emb {0}, nce {1}, acc {2}'.format(embedding_size, num_sampled, perc_match))\n",
    "        \n",
    "        df_perf = df_perf.append(pd.DataFrame({'embedding_size': [embedding_size],\n",
    "                                               'num_sampled': [num_sampled],\n",
    "                                               'accuracy': [perc_match]}))        \n",
    "        \n",
    "        \n",
    "        "
   ]
  },
  {
   "cell_type": "code",
   "execution_count": 18,
   "metadata": {},
   "outputs": [
    {
     "data": {
      "text/plain": [
       "<matplotlib.axes._subplots.AxesSubplot at 0x7f4e7888c7b8>"
      ]
     },
     "execution_count": 18,
     "metadata": {},
     "output_type": "execute_result"
    },
    {
     "data": {
      "image/png": "[encoded data removed]",
      "text/plain": [
       "<Figure size 432x288 with 2 Axes>"
      ]
     },
     "metadata": {
      "needs_background": "light"
     },
     "output_type": "display_data"
    }
   ],
   "source": [
    "sns.heatmap(df_perf.pivot(index='embedding_size', columns='num_sampled', values='accuracy'), cmap='summer')"
   ]
  },
  {
   "cell_type": "code",
   "execution_count": 21,
   "metadata": {},
   "outputs": [],
   "source": [
    "param_optim = {'embedding_size': 50,\n",
    "               'num_sampled': 50}"
   ]
  }
 ],
 "metadata": {
  "kernelspec": {
   "display_name": "Python 3",
   "language": "python",
   "name": "python3"
  },
  "language_info": {
   "codemirror_mode": {
    "name": "ipython",
    "version": 3
   },
   "file_extension": ".py",
   "mimetype": "text/x-python",
   "name": "python",
   "nbconvert_exporter": "python",
   "pygments_lexer": "ipython3",
   "version": "3.7.3"
  },
  "toc": {
   "base_numbering": 1,
   "nav_menu": {},
   "number_sections": true,
   "sideBar": true,
   "skip_h1_title": false,
   "title_cell": "Table of Contents",
   "title_sidebar": "Contents",
   "toc_cell": false,
   "toc_position": {},
   "toc_section_display": true,
   "toc_window_display": true
  }
 },
 "nbformat": 4,
 "nbformat_minor": 2
}
